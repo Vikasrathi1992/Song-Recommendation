{
 "cells": [
  {
   "cell_type": "markdown",
   "metadata": {
    "id": "-M3QFIFrKdPt"
   },
   "source": [
    "# Lesson 1"
   ]
  },
  {
   "cell_type": "markdown",
   "metadata": {
    "id": "o2ooSokHKfsd"
   },
   "source": [
    "In order to use the Spotify API (SpotiPy) we will have to create an account in Spotify and follow these steps. Once we have done it we will start initializing the API and look at the search method for which we can introduce a \"query\" q, in this example we will try it with Lady Gaga:"
   ]
  },
  {
   "cell_type": "code",
   "execution_count": 1,
   "metadata": {
    "colab": {
     "base_uri": "https://localhost:8080/"
    },
    "id": "tis_6tTpKY1Z",
    "outputId": "488ddd44-d4be-4ba0-d78d-bb37b14ccf06"
   },
   "outputs": [
    {
     "name": "stdout",
     "output_type": "stream",
     "text": [
      "Collecting spotipy\n",
      "  Downloading spotipy-2.16.1-py3-none-any.whl (24 kB)\n",
      "Requirement already satisfied: six>=1.10.0 in /Users/vikas/opt/anaconda3/lib/python3.7/site-packages (from spotipy) (1.14.0)\n",
      "Requirement already satisfied: requests>=2.20.0 in /Users/vikas/opt/anaconda3/lib/python3.7/site-packages (from spotipy) (2.22.0)\n",
      "Requirement already satisfied: chardet<3.1.0,>=3.0.2 in /Users/vikas/opt/anaconda3/lib/python3.7/site-packages (from requests>=2.20.0->spotipy) (3.0.4)\n",
      "Requirement already satisfied: urllib3!=1.25.0,!=1.25.1,<1.26,>=1.21.1 in /Users/vikas/opt/anaconda3/lib/python3.7/site-packages (from requests>=2.20.0->spotipy) (1.25.8)\n",
      "Requirement already satisfied: idna<2.9,>=2.5 in /Users/vikas/opt/anaconda3/lib/python3.7/site-packages (from requests>=2.20.0->spotipy) (2.8)\n",
      "Requirement already satisfied: certifi>=2017.4.17 in /Users/vikas/opt/anaconda3/lib/python3.7/site-packages (from requests>=2.20.0->spotipy) (2019.11.28)\n",
      "Installing collected packages: spotipy\n",
      "Successfully installed spotipy-2.16.1\n"
     ]
    }
   ],
   "source": [
    "!pip install spotipy"
   ]
  },
  {
   "cell_type": "markdown",
   "metadata": {
    "id": "fnhh4ayEOKz4"
   },
   "source": [
    "## Loading credentials from another config file"
   ]
  },
  {
   "cell_type": "code",
   "execution_count": null,
   "metadata": {
    "colab": {
     "base_uri": "https://localhost:8080/"
    },
    "id": "5j1kqPOoN_I5",
    "outputId": "d747a183-d209-46fb-d4fe-f04cfb7fc5fa"
   },
   "outputs": [
    {
     "name": "stdout",
     "output_type": "stream",
     "text": [
      "Mounted at /content/drive\n"
     ]
    }
   ],
   "source": [
    "from google.colab import drive\n",
    "drive.mount('/content/drive')"
   ]
  },
  {
   "cell_type": "code",
   "execution_count": 5,
   "metadata": {
    "id": "gjCLGkDJOGmV"
   },
   "outputs": [],
   "source": [
    "#import sys\n",
    "#sys.path.insert(1,'/trial.py/')\n",
    "from trial import *"
   ]
  },
  {
   "cell_type": "code",
   "execution_count": 6,
   "metadata": {},
   "outputs": [
    {
     "data": {
      "text/plain": [
       "'5d76869eac7b448d805576656d13bed1'"
      ]
     },
     "execution_count": 6,
     "metadata": {},
     "output_type": "execute_result"
    }
   ],
   "source": [
    "Client_ID"
   ]
  },
  {
   "cell_type": "markdown",
   "metadata": {
    "id": "0fpGWmsCOSx0"
   },
   "source": [
    "## Starting with Spotify API"
   ]
  },
  {
   "cell_type": "code",
   "execution_count": 7,
   "metadata": {
    "colab": {
     "base_uri": "https://localhost:8080/",
     "height": 137
    },
    "id": "-0qiqFTZqqE2",
    "outputId": "88458dae-faa4-4188-e642-c2d505499835"
   },
   "outputs": [
    {
     "data": {
      "text/plain": [
       "'{\"tracks\": {\"href\": \"https://api.spotify.com/v1/search?query=Lady+Gaga&type=track&offset=0&limit=5\", \"items\": [{\"album\": {\"album_type\": \"single\", \"artists\": [{\"external_urls\": {\"spotify\": \"https://open.spotify.com/artist/1HY2Jd0NmPuamShAr6KMms\"}, \"href\": \"https://api.spotify.com/v1/artists/1HY2Jd0NmPuamShAr6KMms\", \"id\": \"1HY2Jd0NmPuamShAr6KMms\", \"name\": \"Lady Gaga\", \"type\": \"artist\", \"uri\": \"spotify:artist:1HY2Jd0NmPuamShAr6KMms\"}, {\"external_urls\": {\"spotify\": \"https://open.spotify.com/artist/66CXWjxzNUsdJxJ2JdwvnR\"}, \"href\": \"https://api.spotify.com/v1/artists/66CXWjxzNUsdJxJ2JdwvnR\", \"id\": \"66CXWjxzNUsdJxJ2JdwvnR\", \"name\": \"Ariana Grande\", \"type\": \"artist\", \"uri\": \"spotify:artist:66CXWjxzNUsdJxJ2JdwvnR\"}], \"available_markets\": [\"AD\", \"AE\", \"AL\", \"AR\", \"AT\", \"AU\", \"BA\", \"BE\", \"BG\", \"BH\", \"BO\", \"BR\", \"BY\", \"CA\", \"CH\", \"CL\", \"CO\", \"CR\", \"CY\", \"CZ\", \"DE\", \"DK\", \"DO\", \"DZ\", \"EC\", \"EE\", \"EG\", \"ES\", \"FI\", \"FR\", \"GB\", \"GR\", \"GT\", \"HK\", \"HN\", \"HR\", \"HU\", \"ID\", \"IE\", \"IL\", \"IN\", \"IS\", \"IT\", \"JO\", \"JP\", \"KW\", \"KZ\", \"LB\", \"LI\", \"LT\", \"LU\", \"LV\", \"MA\", \"MC\", \"MD\", \"ME\", \"MK\", \"MT\", \"MX\", \"MY\", \"NI\", \"NL\", \"NO\", \"NZ\", \"OM\", \"PA\", \"PE\", \"PH\", \"PL\", \"PS\", \"PT\", \"PY\", \"QA\", \"RO\", \"RS\", \"RU\", \"SA\", \"SG\", \"SI\", \"SK\", \"SV\", \"TH\", \"TN\", \"TR\", \"TW\", \"UA\", \"US\", \"UY\", \"VN\", \"XK\", \"ZA\"], \"external_urls\": {\"spotify\": \"https://open.spotify.com/album/4TqgXMSSTwP3RCo3MMSR6t\"}, \"href\": \"https://api.spotify.com/v1/albums/4TqgXMSSTwP3RCo3MMSR6t\", \"id\": \"4TqgXMSSTwP3RCo3MMSR6t\", \"images\": [{\"height\": 640, \"url\": \"https://i.scdn.co/image/ab67616d0000b273c8583f0bd97d3042d4971acf\", \"width\": 640}, {\"height\": 300, \"url\": \"https://i.scdn.co/image/ab67616d00001e02c8583f0bd97d3042d4971acf\", \"width\": 300}, {\"height\": 64, \"url\": \"https://i.scdn.co/image/ab67616d00004851c8583f0bd97d3042d4971acf\", \"width\": 64}], \"name\": \"Rain On Me (with Ariana Grande)\", \"release_date\": \"2020-05-22\", \"release_date_precision\": \"day\", \"total_tracks\": 1, \"type\": \"album\", \"uri\": \"spotify:album:4TqgXMSSTwP3RCo3MMSR6t\"}, \"artists\": [{\"external_urls\": {\"spotify\": \"https://open.spotify.com/artist/1HY2Jd0NmPuamShAr6KMms\"}, \"href\": \"https://api.spotify.com/v1/artists/1HY2Jd0NmPuamShAr6KMms\", \"id\": \"1HY2Jd0NmPuamShAr6KMms\", \"name\": \"Lady Gaga\", \"type\": \"artist\", \"uri\": \"spotify:artist:1HY2Jd0NmPuamShAr6KMms\"}, {\"external_urls\": {\"spotify\": \"https://open.spotify.com/artist/66CXWjxzNUsdJxJ2JdwvnR\"}, \"href\": \"https://api.spotify.com/v1/artists/66CXWjxzNUsdJxJ2JdwvnR\", \"id\": \"66CXWjxzNUsdJxJ2JdwvnR\", \"name\": \"Ariana Grande\", \"type\": \"artist\", \"uri\": \"spotify:artist:66CXWjxzNUsdJxJ2JdwvnR\"}], \"available_markets\": [\"AD\", \"AE\", \"AL\", \"AR\", \"AT\", \"AU\", \"BA\", \"BE\", \"BG\", \"BH\", \"BO\", \"BR\", \"BY\", \"CA\", \"CH\", \"CL\", \"CO\", \"CR\", \"CY\", \"CZ\", \"DE\", \"DK\", \"DO\", \"DZ\", \"EC\", \"EE\", \"EG\", \"ES\", \"FI\", \"FR\", \"GB\", \"GR\", \"GT\", \"HK\", \"HN\", \"HR\", \"HU\", \"ID\", \"IE\", \"IL\", \"IN\", \"IS\", \"IT\", \"JO\", \"JP\", \"KW\", \"KZ\", \"LB\", \"LI\", \"LT\", \"LU\", \"LV\", \"MA\", \"MC\", \"MD\", \"ME\", \"MK\", \"MT\", \"MX\", \"MY\", \"NI\", \"NL\", \"NO\", \"NZ\", \"OM\", \"PA\", \"PE\", \"PH\", \"PL\", \"PS\", \"PT\", \"PY\", \"QA\", \"RO\", \"RS\", \"RU\", \"SA\", \"SG\", \"SI\", \"SK\", \"SV\", \"TH\", \"TN\", \"TR\", \"TW\", \"UA\", \"US\", \"UY\", \"VN\", \"XK\", \"ZA\"], \"disc_number\": 1, \"duration_ms\": 182200, \"explicit\": false, \"external_ids\": {\"isrc\": \"USUM72004304\"}, \"external_urls\": {\"spotify\": \"https://open.spotify.com/track/24ySl2hOPGCDcxBxFIqWBu\"}, \"href\": \"https://api.spotify.com/v1/tracks/24ySl2hOPGCDcxBxFIqWBu\", \"id\": \"24ySl2hOPGCDcxBxFIqWBu\", \"is_local\": false, \"name\": \"Rain On Me (with Ariana Grande)\", \"popularity\": 86, \"preview_url\": null, \"track_number\": 1, \"type\": \"track\", \"uri\": \"spotify:track:24ySl2hOPGCDcxBxFIqWBu\"}, {\"album\": {\"album_type\": \"album\", \"artists\": [{\"external_urls\": {\"spotify\": \"https://open.spotify.com/artist/1HY2Jd0NmPuamShAr6KMms\"}, \"href\": \"https://api.spotify.com/v1/artists/1HY2Jd0NmPuamShAr6KMms\", \"id\": \"1HY2Jd0NmPuamShAr6KMms\", \"name\": \"Lady Gaga\", \"type\": \"artist\", \"uri\": \"spotify:artist:1HY2Jd0NmPuamShAr6KMms\"}, {\"external_urls\": {\"spotify\": \"https://open.spotify.com/artist/4VIvfOurcf0vuLRxLkGnIG\"}, \"href\": \"https://api.spotify.com/v1/artists/4VIvfOurcf0vuLRxLkGnIG\", \"id\": \"4VIvfOurcf0vuLRxLkGnIG\", \"name\": \"Bradley Cooper\", \"type\": \"artist\", \"uri\": \"spotify:artist:4VIvfOurcf0vuLRxLkGnIG\"}], \"available_markets\": [\"AD\", \"AE\", \"AL\", \"AR\", \"AT\", \"AU\", \"BA\", \"BE\", \"BG\", \"BH\", \"BO\", \"BR\", \"CA\", \"CH\", \"CL\", \"CO\", \"CR\", \"CY\", \"CZ\", \"DE\", \"DK\", \"DO\", \"DZ\", \"EC\", \"EE\", \"EG\", \"ES\", \"FI\", \"FR\", \"GB\", \"GR\", \"GT\", \"HK\", \"HN\", \"HR\", \"HU\", \"ID\", \"IE\", \"IL\", \"IN\", \"IS\", \"IT\", \"JO\", \"JP\", \"KW\", \"KZ\", \"LB\", \"LI\", \"LT\", \"LU\", \"LV\", \"MA\", \"MC\", \"MD\", \"ME\", \"MK\", \"MT\", \"MX\", \"MY\", \"NI\", \"NL\", \"NO\", \"NZ\", \"OM\", \"PA\", \"PE\", \"PH\", \"PL\", \"PS\", \"PT\", \"PY\", \"QA\", \"RO\", \"RS\", \"RU\", \"SA\", \"SE\", \"SG\", \"SI\", \"SK\", \"SV\", \"TH\", \"TN\", \"TR\", \"TW\", \"UA\", \"US\", \"UY\", \"VN\", \"XK\", \"ZA\"], \"external_urls\": {\"spotify\": \"https://open.spotify.com/album/4sLtOBOzn4s3GDUv3c5oJD\"}, \"href\": \"https://api.spotify.com/v1/albums/4sLtOBOzn4s3GDUv3c5oJD\", \"id\": \"4sLtOBOzn4s3GDUv3c5oJD\", \"images\": [{\"height\": 640, \"url\": \"https://i.scdn.co/image/ab67616d0000b273e2d156fdc691f57900134342\", \"width\": 640}, {\"height\": 300, \"url\": \"https://i.scdn.co/image/ab67616d00001e02e2d156fdc691f57900134342\", \"width\": 300}, {\"height\": 64, \"url\": \"https://i.scdn.co/image/ab67616d00004851e2d156fdc691f57900134342\", \"width\": 64}], \"name\": \"A Star Is Born Soundtrack\", \"release_date\": \"2018-10-05\", \"release_date_precision\": \"day\", \"total_tracks\": 34, \"type\": \"album\", \"uri\": \"spotify:album:4sLtOBOzn4s3GDUv3c5oJD\"}, \"artists\": [{\"external_urls\": {\"spotify\": \"https://open.spotify.com/artist/1HY2Jd0NmPuamShAr6KMms\"}, \"href\": \"https://api.spotify.com/v1/artists/1HY2Jd0NmPuamShAr6KMms\", \"id\": \"1HY2Jd0NmPuamShAr6KMms\", \"name\": \"Lady Gaga\", \"type\": \"artist\", \"uri\": \"spotify:artist:1HY2Jd0NmPuamShAr6KMms\"}, {\"external_urls\": {\"spotify\": \"https://open.spotify.com/artist/4VIvfOurcf0vuLRxLkGnIG\"}, \"href\": \"https://api.spotify.com/v1/artists/4VIvfOurcf0vuLRxLkGnIG\", \"id\": \"4VIvfOurcf0vuLRxLkGnIG\", \"name\": \"Bradley Cooper\", \"type\": \"artist\", \"uri\": \"spotify:artist:4VIvfOurcf0vuLRxLkGnIG\"}], \"available_markets\": [\"AD\", \"AE\", \"AL\", \"AR\", \"AT\", \"AU\", \"BA\", \"BE\", \"BG\", \"BH\", \"BO\", \"BR\", \"CA\", \"CH\", \"CL\", \"CO\", \"CR\", \"CY\", \"CZ\", \"DE\", \"DK\", \"DO\", \"DZ\", \"EC\", \"EE\", \"EG\", \"ES\", \"FI\", \"FR\", \"GB\", \"GR\", \"GT\", \"HK\", \"HN\", \"HR\", \"HU\", \"ID\", \"IE\", \"IL\", \"IN\", \"IS\", \"IT\", \"JO\", \"JP\", \"KW\", \"KZ\", \"LB\", \"LI\", \"LT\", \"LU\", \"LV\", \"MA\", \"MC\", \"MD\", \"ME\", \"MK\", \"MT\", \"MX\", \"MY\", \"NI\", \"NL\", \"NO\", \"NZ\", \"OM\", \"PA\", \"PE\", \"PH\", \"PL\", \"PS\", \"PT\", \"PY\", \"QA\", \"RO\", \"RS\", \"RU\", \"SA\", \"SE\", \"SG\", \"SI\", \"SK\", \"SV\", \"TH\", \"TN\", \"TR\", \"TW\", \"UA\", \"US\", \"UY\", \"VN\", \"XK\", \"ZA\"], \"disc_number\": 1, \"duration_ms\": 215733, \"explicit\": false, \"external_ids\": {\"isrc\": \"USUM71813192\"}, \"external_urls\": {\"spotify\": \"https://open.spotify.com/track/2VxeLyX666F8uXCJ0dZF8B\"}, \"href\": \"https://api.spotify.com/v1/tracks/2VxeLyX666F8uXCJ0dZF8B\", \"id\": \"2VxeLyX666F8uXCJ0dZF8B\", \"is_local\": false, \"name\": \"Shallow\", \"popularity\": 86, \"preview_url\": null, \"track_number\": 12, \"type\": \"track\", \"uri\": \"spotify:track:2VxeLyX666F8uXCJ0dZF8B\"}, {\"album\": {\"album_type\": \"album\", \"artists\": [{\"external_urls\": {\"spotify\": \"https://open.spotify.com/artist/1HY2Jd0NmPuamShAr6KMms\"}, \"href\": \"https://api.spotify.com/v1/artists/1HY2Jd0NmPuamShAr6KMms\", \"id\": \"1HY2Jd0NmPuamShAr6KMms\", \"name\": \"Lady Gaga\", \"type\": \"artist\", \"uri\": \"spotify:artist:1HY2Jd0NmPuamShAr6KMms\"}], \"available_markets\": [\"AD\", \"AE\", \"AL\", \"AR\", \"AT\", \"AU\", \"BA\", \"BE\", \"BG\", \"BH\", \"BO\", \"BR\", \"BY\", \"CA\", \"CH\", \"CL\", \"CO\", \"CR\", \"CY\", \"CZ\", \"DE\", \"DK\", \"DO\", \"DZ\", \"EC\", \"EE\", \"EG\", \"ES\", \"FI\", \"FR\", \"GB\", \"GR\", \"GT\", \"HK\", \"HN\", \"HR\", \"HU\", \"ID\", \"IE\", \"IL\", \"IN\", \"IS\", \"IT\", \"JO\", \"JP\", \"KW\", \"KZ\", \"LB\", \"LI\", \"LT\", \"LU\", \"LV\", \"MA\", \"MC\", \"MD\", \"ME\", \"MK\", \"MT\", \"MX\", \"MY\", \"NI\", \"NL\", \"NO\", \"NZ\", \"OM\", \"PA\", \"PE\", \"PH\", \"PL\", \"PS\", \"PT\", \"PY\", \"QA\", \"RO\", \"RS\", \"RU\", \"SA\", \"SE\", \"SG\", \"SI\", \"SK\", \"SV\", \"TH\", \"TN\", \"TR\", \"TW\", \"UA\", \"US\", \"UY\", \"VN\", \"XK\", \"ZA\"], \"external_urls\": {\"spotify\": \"https://open.spotify.com/album/05c49JgPmL4Uz2ZeqRx5SP\"}, \"href\": \"https://api.spotify.com/v1/albums/05c49JgPmL4Uz2ZeqRx5SP\", \"id\": \"05c49JgPmL4Uz2ZeqRx5SP\", \"images\": [{\"height\": 640, \"url\": \"https://i.scdn.co/image/ab67616d0000b2736040effba89b9b00a6f6743a\", \"width\": 640}, {\"height\": 300, \"url\": \"https://i.scdn.co/image/ab67616d00001e026040effba89b9b00a6f6743a\", \"width\": 300}, {\"height\": 64, \"url\": \"https://i.scdn.co/image/ab67616d000048516040effba89b9b00a6f6743a\", \"width\": 64}], \"name\": \"Chromatica\", \"release_date\": \"2020-05-29\", \"release_date_precision\": \"day\", \"total_tracks\": 16, \"type\": \"album\", \"uri\": \"spotify:album:05c49JgPmL4Uz2ZeqRx5SP\"}, \"artists\": [{\"external_urls\": {\"spotify\": \"https://open.spotify.com/artist/1HY2Jd0NmPuamShAr6KMms\"}, \"href\": \"https://api.spotify.com/v1/artists/1HY2Jd0NmPuamShAr6KMms\", \"id\": \"1HY2Jd0NmPuamShAr6KMms\", \"name\": \"Lady Gaga\", \"type\": \"artist\", \"uri\": \"spotify:artist:1HY2Jd0NmPuamShAr6KMms\"}, {\"external_urls\": {\"spotify\": \"https://open.spotify.com/artist/66CXWjxzNUsdJxJ2JdwvnR\"}, \"href\": \"https://api.spotify.com/v1/artists/66CXWjxzNUsdJxJ2JdwvnR\", \"id\": \"66CXWjxzNUsdJxJ2JdwvnR\", \"name\": \"Ariana Grande\", \"type\": \"artist\", \"uri\": \"spotify:artist:66CXWjxzNUsdJxJ2JdwvnR\"}], \"available_markets\": [\"AD\", \"AE\", \"AL\", \"AR\", \"AT\", \"AU\", \"BA\", \"BE\", \"BG\", \"BH\", \"BO\", \"BR\", \"BY\", \"CA\", \"CH\", \"CL\", \"CO\", \"CR\", \"CY\", \"CZ\", \"DE\", \"DK\", \"DO\", \"DZ\", \"EC\", \"EE\", \"EG\", \"ES\", \"FI\", \"FR\", \"GB\", \"GR\", \"GT\", \"HK\", \"HN\", \"HR\", \"HU\", \"ID\", \"IE\", \"IL\", \"IN\", \"IS\", \"IT\", \"JO\", \"JP\", \"KW\", \"KZ\", \"LB\", \"LI\", \"LT\", \"LU\", \"LV\", \"MA\", \"MC\", \"MD\", \"ME\", \"MK\", \"MT\", \"MX\", \"MY\", \"NI\", \"NL\", \"NO\", \"NZ\", \"OM\", \"PA\", \"PE\", \"PH\", \"PL\", \"PS\", \"PT\", \"PY\", \"QA\", \"RO\", \"RS\", \"RU\", \"SA\", \"SE\", \"SG\", \"SI\", \"SK\", \"SV\", \"TH\", \"TN\", \"TR\", \"TW\", \"UA\", \"US\", \"UY\", \"VN\", \"XK\", \"ZA\"], \"disc_number\": 1, \"duration_ms\": 182200, \"explicit\": false, \"external_ids\": {\"isrc\": \"USUM72004304\"}, \"external_urls\": {\"spotify\": \"https://open.spotify.com/track/7ju97lgwC2rKQ6wwsf9no9\"}, \"href\": \"https://api.spotify.com/v1/tracks/7ju97lgwC2rKQ6wwsf9no9\", \"id\": \"7ju97lgwC2rKQ6wwsf9no9\", \"is_local\": false, \"name\": \"Rain On Me (with Ariana Grande)\", \"popularity\": 83, \"preview_url\": null, \"track_number\": 4, \"type\": \"track\", \"uri\": \"spotify:track:7ju97lgwC2rKQ6wwsf9no9\"}, {\"album\": {\"album_type\": \"album\", \"artists\": [{\"external_urls\": {\"spotify\": \"https://open.spotify.com/artist/1HY2Jd0NmPuamShAr6KMms\"}, \"href\": \"https://api.spotify.com/v1/artists/1HY2Jd0NmPuamShAr6KMms\", \"id\": \"1HY2Jd0NmPuamShAr6KMms\", \"name\": \"Lady Gaga\", \"type\": \"artist\", \"uri\": \"spotify:artist:1HY2Jd0NmPuamShAr6KMms\"}], \"available_markets\": [\"AD\", \"AE\", \"AL\", \"AR\", \"AT\", \"AU\", \"BA\", \"BE\", \"BG\", \"BH\", \"BO\", \"BR\", \"CA\", \"CH\", \"CL\", \"CO\", \"CR\", \"CY\", \"CZ\", \"DE\", \"DK\", \"DO\", \"DZ\", \"EC\", \"EE\", \"EG\", \"ES\", \"FI\", \"FR\", \"GB\", \"GR\", \"GT\", \"HK\", \"HN\", \"HR\", \"HU\", \"ID\", \"IE\", \"IL\", \"IN\", \"IS\", \"IT\", \"JO\", \"KW\", \"KZ\", \"LB\", \"LI\", \"LT\", \"LU\", \"LV\", \"MA\", \"MC\", \"MD\", \"ME\", \"MK\", \"MT\", \"MX\", \"MY\", \"NI\", \"NL\", \"NO\", \"NZ\", \"OM\", \"PA\", \"PE\", \"PH\", \"PL\", \"PS\", \"PT\", \"PY\", \"QA\", \"RO\", \"RS\", \"RU\", \"SA\", \"SE\", \"SG\", \"SI\", \"SK\", \"SV\", \"TH\", \"TN\", \"TR\", \"TW\", \"UA\", \"US\", \"UY\", \"VN\", \"XK\", \"ZA\"], \"external_urls\": {\"spotify\": \"https://open.spotify.com/album/6rePArBMb5nLWEaY9aQqL4\"}, \"href\": \"https://api.spotify.com/v1/albums/6rePArBMb5nLWEaY9aQqL4\", \"id\": \"6rePArBMb5nLWEaY9aQqL4\", \"images\": [{\"height\": 640, \"url\": \"https://i.scdn.co/image/ab67616d0000b2735c9890c0456a3719eeecd8aa\", \"width\": 640}, {\"height\": 300, \"url\": \"https://i.scdn.co/image/ab67616d00001e025c9890c0456a3719eeecd8aa\", \"width\": 300}, {\"height\": 64, \"url\": \"https://i.scdn.co/image/ab67616d000048515c9890c0456a3719eeecd8aa\", \"width\": 64}], \"name\": \"The Fame Monster (Deluxe Edition)\", \"release_date\": \"2009-11-05\", \"release_date_precision\": \"day\", \"total_tracks\": 23, \"type\": \"album\", \"uri\": \"spotify:album:6rePArBMb5nLWEaY9aQqL4\"}, \"artists\": [{\"external_urls\": {\"spotify\": \"https://open.spotify.com/artist/1HY2Jd0NmPuamShAr6KMms\"}, \"href\": \"https://api.spotify.com/v1/artists/1HY2Jd0NmPuamShAr6KMms\", \"id\": \"1HY2Jd0NmPuamShAr6KMms\", \"name\": \"Lady Gaga\", \"type\": \"artist\", \"uri\": \"spotify:artist:1HY2Jd0NmPuamShAr6KMms\"}], \"available_markets\": [\"AD\", \"AE\", \"AL\", \"AR\", \"AT\", \"AU\", \"BA\", \"BE\", \"BG\", \"BH\", \"BO\", \"BR\", \"CA\", \"CH\", \"CL\", \"CO\", \"CR\", \"CY\", \"CZ\", \"DE\", \"DK\", \"DO\", \"DZ\", \"EC\", \"EE\", \"EG\", \"ES\", \"FI\", \"FR\", \"GB\", \"GR\", \"GT\", \"HK\", \"HN\", \"HR\", \"HU\", \"ID\", \"IE\", \"IL\", \"IN\", \"IS\", \"IT\", \"JO\", \"KW\", \"KZ\", \"LB\", \"LI\", \"LT\", \"LU\", \"LV\", \"MA\", \"MC\", \"MD\", \"ME\", \"MK\", \"MT\", \"MX\", \"MY\", \"NI\", \"NL\", \"NO\", \"NZ\", \"OM\", \"PA\", \"PE\", \"PH\", \"PL\", \"PS\", \"PT\", \"PY\", \"QA\", \"RO\", \"RS\", \"RU\", \"SA\", \"SE\", \"SG\", \"SI\", \"SK\", \"SV\", \"TH\", \"TN\", \"TR\", \"TW\", \"UA\", \"US\", \"UY\", \"VN\", \"XK\", \"ZA\"], \"disc_number\": 1, \"duration_ms\": 294573, \"explicit\": true, \"external_ids\": {\"isrc\": \"USUM70918596\"}, \"external_urls\": {\"spotify\": \"https://open.spotify.com/track/0SiywuOBRcynK0uKGWdCnn\"}, \"href\": \"https://api.spotify.com/v1/tracks/0SiywuOBRcynK0uKGWdCnn\", \"id\": \"0SiywuOBRcynK0uKGWdCnn\", \"is_local\": false, \"name\": \"Bad Romance\", \"popularity\": 81, \"preview_url\": null, \"track_number\": 1, \"type\": \"track\", \"uri\": \"spotify:track:0SiywuOBRcynK0uKGWdCnn\"}, {\"album\": {\"album_type\": \"album\", \"artists\": [{\"external_urls\": {\"spotify\": \"https://open.spotify.com/artist/1HY2Jd0NmPuamShAr6KMms\"}, \"href\": \"https://api.spotify.com/v1/artists/1HY2Jd0NmPuamShAr6KMms\", \"id\": \"1HY2Jd0NmPuamShAr6KMms\", \"name\": \"Lady Gaga\", \"type\": \"artist\", \"uri\": \"spotify:artist:1HY2Jd0NmPuamShAr6KMms\"}], \"available_markets\": [\"AD\", \"AE\", \"AL\", \"AR\", \"AT\", \"AU\", \"BA\", \"BE\", \"BG\", \"BH\", \"BO\", \"BR\", \"BY\", \"CA\", \"CH\", \"CL\", \"CO\", \"CR\", \"CY\", \"CZ\", \"DE\", \"DK\", \"DO\", \"DZ\", \"EC\", \"EE\", \"EG\", \"ES\", \"FI\", \"FR\", \"GB\", \"GR\", \"GT\", \"HK\", \"HN\", \"HR\", \"HU\", \"ID\", \"IE\", \"IL\", \"IN\", \"IS\", \"IT\", \"JO\", \"JP\", \"KW\", \"KZ\", \"LB\", \"LI\", \"LT\", \"LU\", \"LV\", \"MA\", \"MC\", \"MD\", \"ME\", \"MK\", \"MT\", \"MX\", \"MY\", \"NI\", \"NL\", \"NO\", \"NZ\", \"OM\", \"PA\", \"PE\", \"PH\", \"PL\", \"PS\", \"PT\", \"PY\", \"QA\", \"RO\", \"RS\", \"RU\", \"SA\", \"SE\", \"SG\", \"SI\", \"SK\", \"SV\", \"TH\", \"TN\", \"TR\", \"TW\", \"UA\", \"US\", \"UY\", \"VN\", \"XK\", \"ZA\"], \"external_urls\": {\"spotify\": \"https://open.spotify.com/album/05c49JgPmL4Uz2ZeqRx5SP\"}, \"href\": \"https://api.spotify.com/v1/albums/05c49JgPmL4Uz2ZeqRx5SP\", \"id\": \"05c49JgPmL4Uz2ZeqRx5SP\", \"images\": [{\"height\": 640, \"url\": \"https://i.scdn.co/image/ab67616d0000b2736040effba89b9b00a6f6743a\", \"width\": 640}, {\"height\": 300, \"url\": \"https://i.scdn.co/image/ab67616d00001e026040effba89b9b00a6f6743a\", \"width\": 300}, {\"height\": 64, \"url\": \"https://i.scdn.co/image/ab67616d000048516040effba89b9b00a6f6743a\", \"width\": 64}], \"name\": \"Chromatica\", \"release_date\": \"2020-05-29\", \"release_date_precision\": \"day\", \"total_tracks\": 16, \"type\": \"album\", \"uri\": \"spotify:album:05c49JgPmL4Uz2ZeqRx5SP\"}, \"artists\": [{\"external_urls\": {\"spotify\": \"https://open.spotify.com/artist/1HY2Jd0NmPuamShAr6KMms\"}, \"href\": \"https://api.spotify.com/v1/artists/1HY2Jd0NmPuamShAr6KMms\", \"id\": \"1HY2Jd0NmPuamShAr6KMms\", \"name\": \"Lady Gaga\", \"type\": \"artist\", \"uri\": \"spotify:artist:1HY2Jd0NmPuamShAr6KMms\"}], \"available_markets\": [\"AD\", \"AE\", \"AL\", \"AR\", \"AT\", \"AU\", \"BA\", \"BE\", \"BG\", \"BH\", \"BO\", \"BR\", \"BY\", \"CA\", \"CH\", \"CL\", \"CO\", \"CR\", \"CY\", \"CZ\", \"DE\", \"DK\", \"DO\", \"DZ\", \"EC\", \"EE\", \"EG\", \"ES\", \"FI\", \"FR\", \"GB\", \"GR\", \"GT\", \"HK\", \"HN\", \"HR\", \"HU\", \"ID\", \"IE\", \"IL\", \"IN\", \"IS\", \"IT\", \"JO\", \"JP\", \"KW\", \"KZ\", \"LB\", \"LI\", \"LT\", \"LU\", \"LV\", \"MA\", \"MC\", \"MD\", \"ME\", \"MK\", \"MT\", \"MX\", \"MY\", \"NI\", \"NL\", \"NO\", \"NZ\", \"OM\", \"PA\", \"PE\", \"PH\", \"PL\", \"PS\", \"PT\", \"PY\", \"QA\", \"RO\", \"RS\", \"RU\", \"SA\", \"SE\", \"SG\", \"SI\", \"SK\", \"SV\", \"TH\", \"TN\", \"TR\", \"TW\", \"UA\", \"US\", \"UY\", \"VN\", \"XK\", \"ZA\"], \"disc_number\": 1, \"duration_ms\": 193533, \"explicit\": false, \"external_ids\": {\"isrc\": \"USUM71917357\"}, \"external_urls\": {\"spotify\": \"https://open.spotify.com/track/7yBbV2k2S2uhaQc24NF2xt\"}, \"href\": \"https://api.spotify.com/v1/tracks/7yBbV2k2S2uhaQc24NF2xt\", \"id\": \"7yBbV2k2S2uhaQc24NF2xt\", \"is_local\": false, \"name\": \"Stupid Love\", \"popularity\": 79, \"preview_url\": null, \"track_number\": 3, \"type\": \"track\", \"uri\": \"spotify:track:7yBbV2k2S2uhaQc24NF2xt\"}], \"limit\": 5, \"next\": \"https://api.spotify.com/v1/search?query=Lady+Gaga&type=track&offset=5&limit=5\", \"offset\": 0, \"previous\": null, \"total\": 6525}}'"
      ]
     },
     "execution_count": 7,
     "metadata": {},
     "output_type": "execute_result"
    }
   ],
   "source": [
    "import spotipy\n",
    "import json\n",
    "from spotipy.oauth2 import SpotifyClientCredentials\n",
    "\n",
    "\n",
    "#Initialize SpotiPy with user credentias\n",
    "sp = spotipy.Spotify(auth_manager=SpotifyClientCredentials(client_id= Client_ID,\n",
    "                                                           client_secret= Client_Secret))\n",
    "\n",
    "# The \"sp\" variable has two useful funtions:\n",
    "# The first usefull function is:\n",
    "# .search(q='',limit=n)\n",
    "# Where the \"q\" keyword is the query you want to perform on spotify: song_name, artist,...\n",
    "# while The \"limit\" keyword will limit the number of returned results.\n",
    "#\n",
    "# The second usefull function is:\n",
    "# .audio_features([URL|URI|ID])\n",
    "# which returns some 'features of the song', that after cleanup, we can use in order to characterize a song.\n",
    "\n",
    "results = sp.search(q='Lady Gaga', limit=5)\n",
    "#results\n",
    "json_results = json.dumps(results, ensure_ascii=False)\n",
    "json_results"
   ]
  },
  {
   "cell_type": "code",
   "execution_count": 8,
   "metadata": {
    "colab": {
     "base_uri": "https://localhost:8080/"
    },
    "id": "K975xBBkrehs",
    "outputId": "408c21be-ae77-4652-a4d5-a0bdf5f7438a"
   },
   "outputs": [
    {
     "data": {
      "text/plain": [
       "[{'album': {'album_type': 'single',\n",
       "   'artists': [{'external_urls': {'spotify': 'https://open.spotify.com/artist/1HY2Jd0NmPuamShAr6KMms'},\n",
       "     'href': 'https://api.spotify.com/v1/artists/1HY2Jd0NmPuamShAr6KMms',\n",
       "     'id': '1HY2Jd0NmPuamShAr6KMms',\n",
       "     'name': 'Lady Gaga',\n",
       "     'type': 'artist',\n",
       "     'uri': 'spotify:artist:1HY2Jd0NmPuamShAr6KMms'},\n",
       "    {'external_urls': {'spotify': 'https://open.spotify.com/artist/66CXWjxzNUsdJxJ2JdwvnR'},\n",
       "     'href': 'https://api.spotify.com/v1/artists/66CXWjxzNUsdJxJ2JdwvnR',\n",
       "     'id': '66CXWjxzNUsdJxJ2JdwvnR',\n",
       "     'name': 'Ariana Grande',\n",
       "     'type': 'artist',\n",
       "     'uri': 'spotify:artist:66CXWjxzNUsdJxJ2JdwvnR'}],\n",
       "   'available_markets': ['AD',\n",
       "    'AE',\n",
       "    'AL',\n",
       "    'AR',\n",
       "    'AT',\n",
       "    'AU',\n",
       "    'BA',\n",
       "    'BE',\n",
       "    'BG',\n",
       "    'BH',\n",
       "    'BO',\n",
       "    'BR',\n",
       "    'BY',\n",
       "    'CA',\n",
       "    'CH',\n",
       "    'CL',\n",
       "    'CO',\n",
       "    'CR',\n",
       "    'CY',\n",
       "    'CZ',\n",
       "    'DE',\n",
       "    'DK',\n",
       "    'DO',\n",
       "    'DZ',\n",
       "    'EC',\n",
       "    'EE',\n",
       "    'EG',\n",
       "    'ES',\n",
       "    'FI',\n",
       "    'FR',\n",
       "    'GB',\n",
       "    'GR',\n",
       "    'GT',\n",
       "    'HK',\n",
       "    'HN',\n",
       "    'HR',\n",
       "    'HU',\n",
       "    'ID',\n",
       "    'IE',\n",
       "    'IL',\n",
       "    'IN',\n",
       "    'IS',\n",
       "    'IT',\n",
       "    'JO',\n",
       "    'JP',\n",
       "    'KW',\n",
       "    'KZ',\n",
       "    'LB',\n",
       "    'LI',\n",
       "    'LT',\n",
       "    'LU',\n",
       "    'LV',\n",
       "    'MA',\n",
       "    'MC',\n",
       "    'MD',\n",
       "    'ME',\n",
       "    'MK',\n",
       "    'MT',\n",
       "    'MX',\n",
       "    'MY',\n",
       "    'NI',\n",
       "    'NL',\n",
       "    'NO',\n",
       "    'NZ',\n",
       "    'OM',\n",
       "    'PA',\n",
       "    'PE',\n",
       "    'PH',\n",
       "    'PL',\n",
       "    'PS',\n",
       "    'PT',\n",
       "    'PY',\n",
       "    'QA',\n",
       "    'RO',\n",
       "    'RS',\n",
       "    'RU',\n",
       "    'SA',\n",
       "    'SG',\n",
       "    'SI',\n",
       "    'SK',\n",
       "    'SV',\n",
       "    'TH',\n",
       "    'TN',\n",
       "    'TR',\n",
       "    'TW',\n",
       "    'UA',\n",
       "    'US',\n",
       "    'UY',\n",
       "    'VN',\n",
       "    'XK',\n",
       "    'ZA'],\n",
       "   'external_urls': {'spotify': 'https://open.spotify.com/album/4TqgXMSSTwP3RCo3MMSR6t'},\n",
       "   'href': 'https://api.spotify.com/v1/albums/4TqgXMSSTwP3RCo3MMSR6t',\n",
       "   'id': '4TqgXMSSTwP3RCo3MMSR6t',\n",
       "   'images': [{'height': 640,\n",
       "     'url': 'https://i.scdn.co/image/ab67616d0000b273c8583f0bd97d3042d4971acf',\n",
       "     'width': 640},\n",
       "    {'height': 300,\n",
       "     'url': 'https://i.scdn.co/image/ab67616d00001e02c8583f0bd97d3042d4971acf',\n",
       "     'width': 300},\n",
       "    {'height': 64,\n",
       "     'url': 'https://i.scdn.co/image/ab67616d00004851c8583f0bd97d3042d4971acf',\n",
       "     'width': 64}],\n",
       "   'name': 'Rain On Me (with Ariana Grande)',\n",
       "   'release_date': '2020-05-22',\n",
       "   'release_date_precision': 'day',\n",
       "   'total_tracks': 1,\n",
       "   'type': 'album',\n",
       "   'uri': 'spotify:album:4TqgXMSSTwP3RCo3MMSR6t'},\n",
       "  'artists': [{'external_urls': {'spotify': 'https://open.spotify.com/artist/1HY2Jd0NmPuamShAr6KMms'},\n",
       "    'href': 'https://api.spotify.com/v1/artists/1HY2Jd0NmPuamShAr6KMms',\n",
       "    'id': '1HY2Jd0NmPuamShAr6KMms',\n",
       "    'name': 'Lady Gaga',\n",
       "    'type': 'artist',\n",
       "    'uri': 'spotify:artist:1HY2Jd0NmPuamShAr6KMms'},\n",
       "   {'external_urls': {'spotify': 'https://open.spotify.com/artist/66CXWjxzNUsdJxJ2JdwvnR'},\n",
       "    'href': 'https://api.spotify.com/v1/artists/66CXWjxzNUsdJxJ2JdwvnR',\n",
       "    'id': '66CXWjxzNUsdJxJ2JdwvnR',\n",
       "    'name': 'Ariana Grande',\n",
       "    'type': 'artist',\n",
       "    'uri': 'spotify:artist:66CXWjxzNUsdJxJ2JdwvnR'}],\n",
       "  'available_markets': ['AD',\n",
       "   'AE',\n",
       "   'AL',\n",
       "   'AR',\n",
       "   'AT',\n",
       "   'AU',\n",
       "   'BA',\n",
       "   'BE',\n",
       "   'BG',\n",
       "   'BH',\n",
       "   'BO',\n",
       "   'BR',\n",
       "   'BY',\n",
       "   'CA',\n",
       "   'CH',\n",
       "   'CL',\n",
       "   'CO',\n",
       "   'CR',\n",
       "   'CY',\n",
       "   'CZ',\n",
       "   'DE',\n",
       "   'DK',\n",
       "   'DO',\n",
       "   'DZ',\n",
       "   'EC',\n",
       "   'EE',\n",
       "   'EG',\n",
       "   'ES',\n",
       "   'FI',\n",
       "   'FR',\n",
       "   'GB',\n",
       "   'GR',\n",
       "   'GT',\n",
       "   'HK',\n",
       "   'HN',\n",
       "   'HR',\n",
       "   'HU',\n",
       "   'ID',\n",
       "   'IE',\n",
       "   'IL',\n",
       "   'IN',\n",
       "   'IS',\n",
       "   'IT',\n",
       "   'JO',\n",
       "   'JP',\n",
       "   'KW',\n",
       "   'KZ',\n",
       "   'LB',\n",
       "   'LI',\n",
       "   'LT',\n",
       "   'LU',\n",
       "   'LV',\n",
       "   'MA',\n",
       "   'MC',\n",
       "   'MD',\n",
       "   'ME',\n",
       "   'MK',\n",
       "   'MT',\n",
       "   'MX',\n",
       "   'MY',\n",
       "   'NI',\n",
       "   'NL',\n",
       "   'NO',\n",
       "   'NZ',\n",
       "   'OM',\n",
       "   'PA',\n",
       "   'PE',\n",
       "   'PH',\n",
       "   'PL',\n",
       "   'PS',\n",
       "   'PT',\n",
       "   'PY',\n",
       "   'QA',\n",
       "   'RO',\n",
       "   'RS',\n",
       "   'RU',\n",
       "   'SA',\n",
       "   'SG',\n",
       "   'SI',\n",
       "   'SK',\n",
       "   'SV',\n",
       "   'TH',\n",
       "   'TN',\n",
       "   'TR',\n",
       "   'TW',\n",
       "   'UA',\n",
       "   'US',\n",
       "   'UY',\n",
       "   'VN',\n",
       "   'XK',\n",
       "   'ZA'],\n",
       "  'disc_number': 1,\n",
       "  'duration_ms': 182200,\n",
       "  'explicit': False,\n",
       "  'external_ids': {'isrc': 'USUM72004304'},\n",
       "  'external_urls': {'spotify': 'https://open.spotify.com/track/24ySl2hOPGCDcxBxFIqWBu'},\n",
       "  'href': 'https://api.spotify.com/v1/tracks/24ySl2hOPGCDcxBxFIqWBu',\n",
       "  'id': '24ySl2hOPGCDcxBxFIqWBu',\n",
       "  'is_local': False,\n",
       "  'name': 'Rain On Me (with Ariana Grande)',\n",
       "  'popularity': 86,\n",
       "  'preview_url': None,\n",
       "  'track_number': 1,\n",
       "  'type': 'track',\n",
       "  'uri': 'spotify:track:24ySl2hOPGCDcxBxFIqWBu'},\n",
       " {'album': {'album_type': 'album',\n",
       "   'artists': [{'external_urls': {'spotify': 'https://open.spotify.com/artist/1HY2Jd0NmPuamShAr6KMms'},\n",
       "     'href': 'https://api.spotify.com/v1/artists/1HY2Jd0NmPuamShAr6KMms',\n",
       "     'id': '1HY2Jd0NmPuamShAr6KMms',\n",
       "     'name': 'Lady Gaga',\n",
       "     'type': 'artist',\n",
       "     'uri': 'spotify:artist:1HY2Jd0NmPuamShAr6KMms'},\n",
       "    {'external_urls': {'spotify': 'https://open.spotify.com/artist/4VIvfOurcf0vuLRxLkGnIG'},\n",
       "     'href': 'https://api.spotify.com/v1/artists/4VIvfOurcf0vuLRxLkGnIG',\n",
       "     'id': '4VIvfOurcf0vuLRxLkGnIG',\n",
       "     'name': 'Bradley Cooper',\n",
       "     'type': 'artist',\n",
       "     'uri': 'spotify:artist:4VIvfOurcf0vuLRxLkGnIG'}],\n",
       "   'available_markets': ['AD',\n",
       "    'AE',\n",
       "    'AL',\n",
       "    'AR',\n",
       "    'AT',\n",
       "    'AU',\n",
       "    'BA',\n",
       "    'BE',\n",
       "    'BG',\n",
       "    'BH',\n",
       "    'BO',\n",
       "    'BR',\n",
       "    'CA',\n",
       "    'CH',\n",
       "    'CL',\n",
       "    'CO',\n",
       "    'CR',\n",
       "    'CY',\n",
       "    'CZ',\n",
       "    'DE',\n",
       "    'DK',\n",
       "    'DO',\n",
       "    'DZ',\n",
       "    'EC',\n",
       "    'EE',\n",
       "    'EG',\n",
       "    'ES',\n",
       "    'FI',\n",
       "    'FR',\n",
       "    'GB',\n",
       "    'GR',\n",
       "    'GT',\n",
       "    'HK',\n",
       "    'HN',\n",
       "    'HR',\n",
       "    'HU',\n",
       "    'ID',\n",
       "    'IE',\n",
       "    'IL',\n",
       "    'IN',\n",
       "    'IS',\n",
       "    'IT',\n",
       "    'JO',\n",
       "    'JP',\n",
       "    'KW',\n",
       "    'KZ',\n",
       "    'LB',\n",
       "    'LI',\n",
       "    'LT',\n",
       "    'LU',\n",
       "    'LV',\n",
       "    'MA',\n",
       "    'MC',\n",
       "    'MD',\n",
       "    'ME',\n",
       "    'MK',\n",
       "    'MT',\n",
       "    'MX',\n",
       "    'MY',\n",
       "    'NI',\n",
       "    'NL',\n",
       "    'NO',\n",
       "    'NZ',\n",
       "    'OM',\n",
       "    'PA',\n",
       "    'PE',\n",
       "    'PH',\n",
       "    'PL',\n",
       "    'PS',\n",
       "    'PT',\n",
       "    'PY',\n",
       "    'QA',\n",
       "    'RO',\n",
       "    'RS',\n",
       "    'RU',\n",
       "    'SA',\n",
       "    'SE',\n",
       "    'SG',\n",
       "    'SI',\n",
       "    'SK',\n",
       "    'SV',\n",
       "    'TH',\n",
       "    'TN',\n",
       "    'TR',\n",
       "    'TW',\n",
       "    'UA',\n",
       "    'US',\n",
       "    'UY',\n",
       "    'VN',\n",
       "    'XK',\n",
       "    'ZA'],\n",
       "   'external_urls': {'spotify': 'https://open.spotify.com/album/4sLtOBOzn4s3GDUv3c5oJD'},\n",
       "   'href': 'https://api.spotify.com/v1/albums/4sLtOBOzn4s3GDUv3c5oJD',\n",
       "   'id': '4sLtOBOzn4s3GDUv3c5oJD',\n",
       "   'images': [{'height': 640,\n",
       "     'url': 'https://i.scdn.co/image/ab67616d0000b273e2d156fdc691f57900134342',\n",
       "     'width': 640},\n",
       "    {'height': 300,\n",
       "     'url': 'https://i.scdn.co/image/ab67616d00001e02e2d156fdc691f57900134342',\n",
       "     'width': 300},\n",
       "    {'height': 64,\n",
       "     'url': 'https://i.scdn.co/image/ab67616d00004851e2d156fdc691f57900134342',\n",
       "     'width': 64}],\n",
       "   'name': 'A Star Is Born Soundtrack',\n",
       "   'release_date': '2018-10-05',\n",
       "   'release_date_precision': 'day',\n",
       "   'total_tracks': 34,\n",
       "   'type': 'album',\n",
       "   'uri': 'spotify:album:4sLtOBOzn4s3GDUv3c5oJD'},\n",
       "  'artists': [{'external_urls': {'spotify': 'https://open.spotify.com/artist/1HY2Jd0NmPuamShAr6KMms'},\n",
       "    'href': 'https://api.spotify.com/v1/artists/1HY2Jd0NmPuamShAr6KMms',\n",
       "    'id': '1HY2Jd0NmPuamShAr6KMms',\n",
       "    'name': 'Lady Gaga',\n",
       "    'type': 'artist',\n",
       "    'uri': 'spotify:artist:1HY2Jd0NmPuamShAr6KMms'},\n",
       "   {'external_urls': {'spotify': 'https://open.spotify.com/artist/4VIvfOurcf0vuLRxLkGnIG'},\n",
       "    'href': 'https://api.spotify.com/v1/artists/4VIvfOurcf0vuLRxLkGnIG',\n",
       "    'id': '4VIvfOurcf0vuLRxLkGnIG',\n",
       "    'name': 'Bradley Cooper',\n",
       "    'type': 'artist',\n",
       "    'uri': 'spotify:artist:4VIvfOurcf0vuLRxLkGnIG'}],\n",
       "  'available_markets': ['AD',\n",
       "   'AE',\n",
       "   'AL',\n",
       "   'AR',\n",
       "   'AT',\n",
       "   'AU',\n",
       "   'BA',\n",
       "   'BE',\n",
       "   'BG',\n",
       "   'BH',\n",
       "   'BO',\n",
       "   'BR',\n",
       "   'CA',\n",
       "   'CH',\n",
       "   'CL',\n",
       "   'CO',\n",
       "   'CR',\n",
       "   'CY',\n",
       "   'CZ',\n",
       "   'DE',\n",
       "   'DK',\n",
       "   'DO',\n",
       "   'DZ',\n",
       "   'EC',\n",
       "   'EE',\n",
       "   'EG',\n",
       "   'ES',\n",
       "   'FI',\n",
       "   'FR',\n",
       "   'GB',\n",
       "   'GR',\n",
       "   'GT',\n",
       "   'HK',\n",
       "   'HN',\n",
       "   'HR',\n",
       "   'HU',\n",
       "   'ID',\n",
       "   'IE',\n",
       "   'IL',\n",
       "   'IN',\n",
       "   'IS',\n",
       "   'IT',\n",
       "   'JO',\n",
       "   'JP',\n",
       "   'KW',\n",
       "   'KZ',\n",
       "   'LB',\n",
       "   'LI',\n",
       "   'LT',\n",
       "   'LU',\n",
       "   'LV',\n",
       "   'MA',\n",
       "   'MC',\n",
       "   'MD',\n",
       "   'ME',\n",
       "   'MK',\n",
       "   'MT',\n",
       "   'MX',\n",
       "   'MY',\n",
       "   'NI',\n",
       "   'NL',\n",
       "   'NO',\n",
       "   'NZ',\n",
       "   'OM',\n",
       "   'PA',\n",
       "   'PE',\n",
       "   'PH',\n",
       "   'PL',\n",
       "   'PS',\n",
       "   'PT',\n",
       "   'PY',\n",
       "   'QA',\n",
       "   'RO',\n",
       "   'RS',\n",
       "   'RU',\n",
       "   'SA',\n",
       "   'SE',\n",
       "   'SG',\n",
       "   'SI',\n",
       "   'SK',\n",
       "   'SV',\n",
       "   'TH',\n",
       "   'TN',\n",
       "   'TR',\n",
       "   'TW',\n",
       "   'UA',\n",
       "   'US',\n",
       "   'UY',\n",
       "   'VN',\n",
       "   'XK',\n",
       "   'ZA'],\n",
       "  'disc_number': 1,\n",
       "  'duration_ms': 215733,\n",
       "  'explicit': False,\n",
       "  'external_ids': {'isrc': 'USUM71813192'},\n",
       "  'external_urls': {'spotify': 'https://open.spotify.com/track/2VxeLyX666F8uXCJ0dZF8B'},\n",
       "  'href': 'https://api.spotify.com/v1/tracks/2VxeLyX666F8uXCJ0dZF8B',\n",
       "  'id': '2VxeLyX666F8uXCJ0dZF8B',\n",
       "  'is_local': False,\n",
       "  'name': 'Shallow',\n",
       "  'popularity': 86,\n",
       "  'preview_url': None,\n",
       "  'track_number': 12,\n",
       "  'type': 'track',\n",
       "  'uri': 'spotify:track:2VxeLyX666F8uXCJ0dZF8B'},\n",
       " {'album': {'album_type': 'album',\n",
       "   'artists': [{'external_urls': {'spotify': 'https://open.spotify.com/artist/1HY2Jd0NmPuamShAr6KMms'},\n",
       "     'href': 'https://api.spotify.com/v1/artists/1HY2Jd0NmPuamShAr6KMms',\n",
       "     'id': '1HY2Jd0NmPuamShAr6KMms',\n",
       "     'name': 'Lady Gaga',\n",
       "     'type': 'artist',\n",
       "     'uri': 'spotify:artist:1HY2Jd0NmPuamShAr6KMms'}],\n",
       "   'available_markets': ['AD',\n",
       "    'AE',\n",
       "    'AL',\n",
       "    'AR',\n",
       "    'AT',\n",
       "    'AU',\n",
       "    'BA',\n",
       "    'BE',\n",
       "    'BG',\n",
       "    'BH',\n",
       "    'BO',\n",
       "    'BR',\n",
       "    'BY',\n",
       "    'CA',\n",
       "    'CH',\n",
       "    'CL',\n",
       "    'CO',\n",
       "    'CR',\n",
       "    'CY',\n",
       "    'CZ',\n",
       "    'DE',\n",
       "    'DK',\n",
       "    'DO',\n",
       "    'DZ',\n",
       "    'EC',\n",
       "    'EE',\n",
       "    'EG',\n",
       "    'ES',\n",
       "    'FI',\n",
       "    'FR',\n",
       "    'GB',\n",
       "    'GR',\n",
       "    'GT',\n",
       "    'HK',\n",
       "    'HN',\n",
       "    'HR',\n",
       "    'HU',\n",
       "    'ID',\n",
       "    'IE',\n",
       "    'IL',\n",
       "    'IN',\n",
       "    'IS',\n",
       "    'IT',\n",
       "    'JO',\n",
       "    'JP',\n",
       "    'KW',\n",
       "    'KZ',\n",
       "    'LB',\n",
       "    'LI',\n",
       "    'LT',\n",
       "    'LU',\n",
       "    'LV',\n",
       "    'MA',\n",
       "    'MC',\n",
       "    'MD',\n",
       "    'ME',\n",
       "    'MK',\n",
       "    'MT',\n",
       "    'MX',\n",
       "    'MY',\n",
       "    'NI',\n",
       "    'NL',\n",
       "    'NO',\n",
       "    'NZ',\n",
       "    'OM',\n",
       "    'PA',\n",
       "    'PE',\n",
       "    'PH',\n",
       "    'PL',\n",
       "    'PS',\n",
       "    'PT',\n",
       "    'PY',\n",
       "    'QA',\n",
       "    'RO',\n",
       "    'RS',\n",
       "    'RU',\n",
       "    'SA',\n",
       "    'SE',\n",
       "    'SG',\n",
       "    'SI',\n",
       "    'SK',\n",
       "    'SV',\n",
       "    'TH',\n",
       "    'TN',\n",
       "    'TR',\n",
       "    'TW',\n",
       "    'UA',\n",
       "    'US',\n",
       "    'UY',\n",
       "    'VN',\n",
       "    'XK',\n",
       "    'ZA'],\n",
       "   'external_urls': {'spotify': 'https://open.spotify.com/album/05c49JgPmL4Uz2ZeqRx5SP'},\n",
       "   'href': 'https://api.spotify.com/v1/albums/05c49JgPmL4Uz2ZeqRx5SP',\n",
       "   'id': '05c49JgPmL4Uz2ZeqRx5SP',\n",
       "   'images': [{'height': 640,\n",
       "     'url': 'https://i.scdn.co/image/ab67616d0000b2736040effba89b9b00a6f6743a',\n",
       "     'width': 640},\n",
       "    {'height': 300,\n",
       "     'url': 'https://i.scdn.co/image/ab67616d00001e026040effba89b9b00a6f6743a',\n",
       "     'width': 300},\n",
       "    {'height': 64,\n",
       "     'url': 'https://i.scdn.co/image/ab67616d000048516040effba89b9b00a6f6743a',\n",
       "     'width': 64}],\n",
       "   'name': 'Chromatica',\n",
       "   'release_date': '2020-05-29',\n",
       "   'release_date_precision': 'day',\n",
       "   'total_tracks': 16,\n",
       "   'type': 'album',\n",
       "   'uri': 'spotify:album:05c49JgPmL4Uz2ZeqRx5SP'},\n",
       "  'artists': [{'external_urls': {'spotify': 'https://open.spotify.com/artist/1HY2Jd0NmPuamShAr6KMms'},\n",
       "    'href': 'https://api.spotify.com/v1/artists/1HY2Jd0NmPuamShAr6KMms',\n",
       "    'id': '1HY2Jd0NmPuamShAr6KMms',\n",
       "    'name': 'Lady Gaga',\n",
       "    'type': 'artist',\n",
       "    'uri': 'spotify:artist:1HY2Jd0NmPuamShAr6KMms'},\n",
       "   {'external_urls': {'spotify': 'https://open.spotify.com/artist/66CXWjxzNUsdJxJ2JdwvnR'},\n",
       "    'href': 'https://api.spotify.com/v1/artists/66CXWjxzNUsdJxJ2JdwvnR',\n",
       "    'id': '66CXWjxzNUsdJxJ2JdwvnR',\n",
       "    'name': 'Ariana Grande',\n",
       "    'type': 'artist',\n",
       "    'uri': 'spotify:artist:66CXWjxzNUsdJxJ2JdwvnR'}],\n",
       "  'available_markets': ['AD',\n",
       "   'AE',\n",
       "   'AL',\n",
       "   'AR',\n",
       "   'AT',\n",
       "   'AU',\n",
       "   'BA',\n",
       "   'BE',\n",
       "   'BG',\n",
       "   'BH',\n",
       "   'BO',\n",
       "   'BR',\n",
       "   'BY',\n",
       "   'CA',\n",
       "   'CH',\n",
       "   'CL',\n",
       "   'CO',\n",
       "   'CR',\n",
       "   'CY',\n",
       "   'CZ',\n",
       "   'DE',\n",
       "   'DK',\n",
       "   'DO',\n",
       "   'DZ',\n",
       "   'EC',\n",
       "   'EE',\n",
       "   'EG',\n",
       "   'ES',\n",
       "   'FI',\n",
       "   'FR',\n",
       "   'GB',\n",
       "   'GR',\n",
       "   'GT',\n",
       "   'HK',\n",
       "   'HN',\n",
       "   'HR',\n",
       "   'HU',\n",
       "   'ID',\n",
       "   'IE',\n",
       "   'IL',\n",
       "   'IN',\n",
       "   'IS',\n",
       "   'IT',\n",
       "   'JO',\n",
       "   'JP',\n",
       "   'KW',\n",
       "   'KZ',\n",
       "   'LB',\n",
       "   'LI',\n",
       "   'LT',\n",
       "   'LU',\n",
       "   'LV',\n",
       "   'MA',\n",
       "   'MC',\n",
       "   'MD',\n",
       "   'ME',\n",
       "   'MK',\n",
       "   'MT',\n",
       "   'MX',\n",
       "   'MY',\n",
       "   'NI',\n",
       "   'NL',\n",
       "   'NO',\n",
       "   'NZ',\n",
       "   'OM',\n",
       "   'PA',\n",
       "   'PE',\n",
       "   'PH',\n",
       "   'PL',\n",
       "   'PS',\n",
       "   'PT',\n",
       "   'PY',\n",
       "   'QA',\n",
       "   'RO',\n",
       "   'RS',\n",
       "   'RU',\n",
       "   'SA',\n",
       "   'SE',\n",
       "   'SG',\n",
       "   'SI',\n",
       "   'SK',\n",
       "   'SV',\n",
       "   'TH',\n",
       "   'TN',\n",
       "   'TR',\n",
       "   'TW',\n",
       "   'UA',\n",
       "   'US',\n",
       "   'UY',\n",
       "   'VN',\n",
       "   'XK',\n",
       "   'ZA'],\n",
       "  'disc_number': 1,\n",
       "  'duration_ms': 182200,\n",
       "  'explicit': False,\n",
       "  'external_ids': {'isrc': 'USUM72004304'},\n",
       "  'external_urls': {'spotify': 'https://open.spotify.com/track/7ju97lgwC2rKQ6wwsf9no9'},\n",
       "  'href': 'https://api.spotify.com/v1/tracks/7ju97lgwC2rKQ6wwsf9no9',\n",
       "  'id': '7ju97lgwC2rKQ6wwsf9no9',\n",
       "  'is_local': False,\n",
       "  'name': 'Rain On Me (with Ariana Grande)',\n",
       "  'popularity': 83,\n",
       "  'preview_url': None,\n",
       "  'track_number': 4,\n",
       "  'type': 'track',\n",
       "  'uri': 'spotify:track:7ju97lgwC2rKQ6wwsf9no9'},\n",
       " {'album': {'album_type': 'album',\n",
       "   'artists': [{'external_urls': {'spotify': 'https://open.spotify.com/artist/1HY2Jd0NmPuamShAr6KMms'},\n",
       "     'href': 'https://api.spotify.com/v1/artists/1HY2Jd0NmPuamShAr6KMms',\n",
       "     'id': '1HY2Jd0NmPuamShAr6KMms',\n",
       "     'name': 'Lady Gaga',\n",
       "     'type': 'artist',\n",
       "     'uri': 'spotify:artist:1HY2Jd0NmPuamShAr6KMms'}],\n",
       "   'available_markets': ['AD',\n",
       "    'AE',\n",
       "    'AL',\n",
       "    'AR',\n",
       "    'AT',\n",
       "    'AU',\n",
       "    'BA',\n",
       "    'BE',\n",
       "    'BG',\n",
       "    'BH',\n",
       "    'BO',\n",
       "    'BR',\n",
       "    'CA',\n",
       "    'CH',\n",
       "    'CL',\n",
       "    'CO',\n",
       "    'CR',\n",
       "    'CY',\n",
       "    'CZ',\n",
       "    'DE',\n",
       "    'DK',\n",
       "    'DO',\n",
       "    'DZ',\n",
       "    'EC',\n",
       "    'EE',\n",
       "    'EG',\n",
       "    'ES',\n",
       "    'FI',\n",
       "    'FR',\n",
       "    'GB',\n",
       "    'GR',\n",
       "    'GT',\n",
       "    'HK',\n",
       "    'HN',\n",
       "    'HR',\n",
       "    'HU',\n",
       "    'ID',\n",
       "    'IE',\n",
       "    'IL',\n",
       "    'IN',\n",
       "    'IS',\n",
       "    'IT',\n",
       "    'JO',\n",
       "    'KW',\n",
       "    'KZ',\n",
       "    'LB',\n",
       "    'LI',\n",
       "    'LT',\n",
       "    'LU',\n",
       "    'LV',\n",
       "    'MA',\n",
       "    'MC',\n",
       "    'MD',\n",
       "    'ME',\n",
       "    'MK',\n",
       "    'MT',\n",
       "    'MX',\n",
       "    'MY',\n",
       "    'NI',\n",
       "    'NL',\n",
       "    'NO',\n",
       "    'NZ',\n",
       "    'OM',\n",
       "    'PA',\n",
       "    'PE',\n",
       "    'PH',\n",
       "    'PL',\n",
       "    'PS',\n",
       "    'PT',\n",
       "    'PY',\n",
       "    'QA',\n",
       "    'RO',\n",
       "    'RS',\n",
       "    'RU',\n",
       "    'SA',\n",
       "    'SE',\n",
       "    'SG',\n",
       "    'SI',\n",
       "    'SK',\n",
       "    'SV',\n",
       "    'TH',\n",
       "    'TN',\n",
       "    'TR',\n",
       "    'TW',\n",
       "    'UA',\n",
       "    'US',\n",
       "    'UY',\n",
       "    'VN',\n",
       "    'XK',\n",
       "    'ZA'],\n",
       "   'external_urls': {'spotify': 'https://open.spotify.com/album/6rePArBMb5nLWEaY9aQqL4'},\n",
       "   'href': 'https://api.spotify.com/v1/albums/6rePArBMb5nLWEaY9aQqL4',\n",
       "   'id': '6rePArBMb5nLWEaY9aQqL4',\n",
       "   'images': [{'height': 640,\n",
       "     'url': 'https://i.scdn.co/image/ab67616d0000b2735c9890c0456a3719eeecd8aa',\n",
       "     'width': 640},\n",
       "    {'height': 300,\n",
       "     'url': 'https://i.scdn.co/image/ab67616d00001e025c9890c0456a3719eeecd8aa',\n",
       "     'width': 300},\n",
       "    {'height': 64,\n",
       "     'url': 'https://i.scdn.co/image/ab67616d000048515c9890c0456a3719eeecd8aa',\n",
       "     'width': 64}],\n",
       "   'name': 'The Fame Monster (Deluxe Edition)',\n",
       "   'release_date': '2009-11-05',\n",
       "   'release_date_precision': 'day',\n",
       "   'total_tracks': 23,\n",
       "   'type': 'album',\n",
       "   'uri': 'spotify:album:6rePArBMb5nLWEaY9aQqL4'},\n",
       "  'artists': [{'external_urls': {'spotify': 'https://open.spotify.com/artist/1HY2Jd0NmPuamShAr6KMms'},\n",
       "    'href': 'https://api.spotify.com/v1/artists/1HY2Jd0NmPuamShAr6KMms',\n",
       "    'id': '1HY2Jd0NmPuamShAr6KMms',\n",
       "    'name': 'Lady Gaga',\n",
       "    'type': 'artist',\n",
       "    'uri': 'spotify:artist:1HY2Jd0NmPuamShAr6KMms'}],\n",
       "  'available_markets': ['AD',\n",
       "   'AE',\n",
       "   'AL',\n",
       "   'AR',\n",
       "   'AT',\n",
       "   'AU',\n",
       "   'BA',\n",
       "   'BE',\n",
       "   'BG',\n",
       "   'BH',\n",
       "   'BO',\n",
       "   'BR',\n",
       "   'CA',\n",
       "   'CH',\n",
       "   'CL',\n",
       "   'CO',\n",
       "   'CR',\n",
       "   'CY',\n",
       "   'CZ',\n",
       "   'DE',\n",
       "   'DK',\n",
       "   'DO',\n",
       "   'DZ',\n",
       "   'EC',\n",
       "   'EE',\n",
       "   'EG',\n",
       "   'ES',\n",
       "   'FI',\n",
       "   'FR',\n",
       "   'GB',\n",
       "   'GR',\n",
       "   'GT',\n",
       "   'HK',\n",
       "   'HN',\n",
       "   'HR',\n",
       "   'HU',\n",
       "   'ID',\n",
       "   'IE',\n",
       "   'IL',\n",
       "   'IN',\n",
       "   'IS',\n",
       "   'IT',\n",
       "   'JO',\n",
       "   'KW',\n",
       "   'KZ',\n",
       "   'LB',\n",
       "   'LI',\n",
       "   'LT',\n",
       "   'LU',\n",
       "   'LV',\n",
       "   'MA',\n",
       "   'MC',\n",
       "   'MD',\n",
       "   'ME',\n",
       "   'MK',\n",
       "   'MT',\n",
       "   'MX',\n",
       "   'MY',\n",
       "   'NI',\n",
       "   'NL',\n",
       "   'NO',\n",
       "   'NZ',\n",
       "   'OM',\n",
       "   'PA',\n",
       "   'PE',\n",
       "   'PH',\n",
       "   'PL',\n",
       "   'PS',\n",
       "   'PT',\n",
       "   'PY',\n",
       "   'QA',\n",
       "   'RO',\n",
       "   'RS',\n",
       "   'RU',\n",
       "   'SA',\n",
       "   'SE',\n",
       "   'SG',\n",
       "   'SI',\n",
       "   'SK',\n",
       "   'SV',\n",
       "   'TH',\n",
       "   'TN',\n",
       "   'TR',\n",
       "   'TW',\n",
       "   'UA',\n",
       "   'US',\n",
       "   'UY',\n",
       "   'VN',\n",
       "   'XK',\n",
       "   'ZA'],\n",
       "  'disc_number': 1,\n",
       "  'duration_ms': 294573,\n",
       "  'explicit': True,\n",
       "  'external_ids': {'isrc': 'USUM70918596'},\n",
       "  'external_urls': {'spotify': 'https://open.spotify.com/track/0SiywuOBRcynK0uKGWdCnn'},\n",
       "  'href': 'https://api.spotify.com/v1/tracks/0SiywuOBRcynK0uKGWdCnn',\n",
       "  'id': '0SiywuOBRcynK0uKGWdCnn',\n",
       "  'is_local': False,\n",
       "  'name': 'Bad Romance',\n",
       "  'popularity': 81,\n",
       "  'preview_url': None,\n",
       "  'track_number': 1,\n",
       "  'type': 'track',\n",
       "  'uri': 'spotify:track:0SiywuOBRcynK0uKGWdCnn'},\n",
       " {'album': {'album_type': 'album',\n",
       "   'artists': [{'external_urls': {'spotify': 'https://open.spotify.com/artist/1HY2Jd0NmPuamShAr6KMms'},\n",
       "     'href': 'https://api.spotify.com/v1/artists/1HY2Jd0NmPuamShAr6KMms',\n",
       "     'id': '1HY2Jd0NmPuamShAr6KMms',\n",
       "     'name': 'Lady Gaga',\n",
       "     'type': 'artist',\n",
       "     'uri': 'spotify:artist:1HY2Jd0NmPuamShAr6KMms'}],\n",
       "   'available_markets': ['AD',\n",
       "    'AE',\n",
       "    'AL',\n",
       "    'AR',\n",
       "    'AT',\n",
       "    'AU',\n",
       "    'BA',\n",
       "    'BE',\n",
       "    'BG',\n",
       "    'BH',\n",
       "    'BO',\n",
       "    'BR',\n",
       "    'BY',\n",
       "    'CA',\n",
       "    'CH',\n",
       "    'CL',\n",
       "    'CO',\n",
       "    'CR',\n",
       "    'CY',\n",
       "    'CZ',\n",
       "    'DE',\n",
       "    'DK',\n",
       "    'DO',\n",
       "    'DZ',\n",
       "    'EC',\n",
       "    'EE',\n",
       "    'EG',\n",
       "    'ES',\n",
       "    'FI',\n",
       "    'FR',\n",
       "    'GB',\n",
       "    'GR',\n",
       "    'GT',\n",
       "    'HK',\n",
       "    'HN',\n",
       "    'HR',\n",
       "    'HU',\n",
       "    'ID',\n",
       "    'IE',\n",
       "    'IL',\n",
       "    'IN',\n",
       "    'IS',\n",
       "    'IT',\n",
       "    'JO',\n",
       "    'JP',\n",
       "    'KW',\n",
       "    'KZ',\n",
       "    'LB',\n",
       "    'LI',\n",
       "    'LT',\n",
       "    'LU',\n",
       "    'LV',\n",
       "    'MA',\n",
       "    'MC',\n",
       "    'MD',\n",
       "    'ME',\n",
       "    'MK',\n",
       "    'MT',\n",
       "    'MX',\n",
       "    'MY',\n",
       "    'NI',\n",
       "    'NL',\n",
       "    'NO',\n",
       "    'NZ',\n",
       "    'OM',\n",
       "    'PA',\n",
       "    'PE',\n",
       "    'PH',\n",
       "    'PL',\n",
       "    'PS',\n",
       "    'PT',\n",
       "    'PY',\n",
       "    'QA',\n",
       "    'RO',\n",
       "    'RS',\n",
       "    'RU',\n",
       "    'SA',\n",
       "    'SE',\n",
       "    'SG',\n",
       "    'SI',\n",
       "    'SK',\n",
       "    'SV',\n",
       "    'TH',\n",
       "    'TN',\n",
       "    'TR',\n",
       "    'TW',\n",
       "    'UA',\n",
       "    'US',\n",
       "    'UY',\n",
       "    'VN',\n",
       "    'XK',\n",
       "    'ZA'],\n",
       "   'external_urls': {'spotify': 'https://open.spotify.com/album/05c49JgPmL4Uz2ZeqRx5SP'},\n",
       "   'href': 'https://api.spotify.com/v1/albums/05c49JgPmL4Uz2ZeqRx5SP',\n",
       "   'id': '05c49JgPmL4Uz2ZeqRx5SP',\n",
       "   'images': [{'height': 640,\n",
       "     'url': 'https://i.scdn.co/image/ab67616d0000b2736040effba89b9b00a6f6743a',\n",
       "     'width': 640},\n",
       "    {'height': 300,\n",
       "     'url': 'https://i.scdn.co/image/ab67616d00001e026040effba89b9b00a6f6743a',\n",
       "     'width': 300},\n",
       "    {'height': 64,\n",
       "     'url': 'https://i.scdn.co/image/ab67616d000048516040effba89b9b00a6f6743a',\n",
       "     'width': 64}],\n",
       "   'name': 'Chromatica',\n",
       "   'release_date': '2020-05-29',\n",
       "   'release_date_precision': 'day',\n",
       "   'total_tracks': 16,\n",
       "   'type': 'album',\n",
       "   'uri': 'spotify:album:05c49JgPmL4Uz2ZeqRx5SP'},\n",
       "  'artists': [{'external_urls': {'spotify': 'https://open.spotify.com/artist/1HY2Jd0NmPuamShAr6KMms'},\n",
       "    'href': 'https://api.spotify.com/v1/artists/1HY2Jd0NmPuamShAr6KMms',\n",
       "    'id': '1HY2Jd0NmPuamShAr6KMms',\n",
       "    'name': 'Lady Gaga',\n",
       "    'type': 'artist',\n",
       "    'uri': 'spotify:artist:1HY2Jd0NmPuamShAr6KMms'}],\n",
       "  'available_markets': ['AD',\n",
       "   'AE',\n",
       "   'AL',\n",
       "   'AR',\n",
       "   'AT',\n",
       "   'AU',\n",
       "   'BA',\n",
       "   'BE',\n",
       "   'BG',\n",
       "   'BH',\n",
       "   'BO',\n",
       "   'BR',\n",
       "   'BY',\n",
       "   'CA',\n",
       "   'CH',\n",
       "   'CL',\n",
       "   'CO',\n",
       "   'CR',\n",
       "   'CY',\n",
       "   'CZ',\n",
       "   'DE',\n",
       "   'DK',\n",
       "   'DO',\n",
       "   'DZ',\n",
       "   'EC',\n",
       "   'EE',\n",
       "   'EG',\n",
       "   'ES',\n",
       "   'FI',\n",
       "   'FR',\n",
       "   'GB',\n",
       "   'GR',\n",
       "   'GT',\n",
       "   'HK',\n",
       "   'HN',\n",
       "   'HR',\n",
       "   'HU',\n",
       "   'ID',\n",
       "   'IE',\n",
       "   'IL',\n",
       "   'IN',\n",
       "   'IS',\n",
       "   'IT',\n",
       "   'JO',\n",
       "   'JP',\n",
       "   'KW',\n",
       "   'KZ',\n",
       "   'LB',\n",
       "   'LI',\n",
       "   'LT',\n",
       "   'LU',\n",
       "   'LV',\n",
       "   'MA',\n",
       "   'MC',\n",
       "   'MD',\n",
       "   'ME',\n",
       "   'MK',\n",
       "   'MT',\n",
       "   'MX',\n",
       "   'MY',\n",
       "   'NI',\n",
       "   'NL',\n",
       "   'NO',\n",
       "   'NZ',\n",
       "   'OM',\n",
       "   'PA',\n",
       "   'PE',\n",
       "   'PH',\n",
       "   'PL',\n",
       "   'PS',\n",
       "   'PT',\n",
       "   'PY',\n",
       "   'QA',\n",
       "   'RO',\n",
       "   'RS',\n",
       "   'RU',\n",
       "   'SA',\n",
       "   'SE',\n",
       "   'SG',\n",
       "   'SI',\n",
       "   'SK',\n",
       "   'SV',\n",
       "   'TH',\n",
       "   'TN',\n",
       "   'TR',\n",
       "   'TW',\n",
       "   'UA',\n",
       "   'US',\n",
       "   'UY',\n",
       "   'VN',\n",
       "   'XK',\n",
       "   'ZA'],\n",
       "  'disc_number': 1,\n",
       "  'duration_ms': 193533,\n",
       "  'explicit': False,\n",
       "  'external_ids': {'isrc': 'USUM71917357'},\n",
       "  'external_urls': {'spotify': 'https://open.spotify.com/track/7yBbV2k2S2uhaQc24NF2xt'},\n",
       "  'href': 'https://api.spotify.com/v1/tracks/7yBbV2k2S2uhaQc24NF2xt',\n",
       "  'id': '7yBbV2k2S2uhaQc24NF2xt',\n",
       "  'is_local': False,\n",
       "  'name': 'Stupid Love',\n",
       "  'popularity': 79,\n",
       "  'preview_url': None,\n",
       "  'track_number': 3,\n",
       "  'type': 'track',\n",
       "  'uri': 'spotify:track:7yBbV2k2S2uhaQc24NF2xt'}]"
      ]
     },
     "execution_count": 8,
     "metadata": {},
     "output_type": "execute_result"
    }
   ],
   "source": [
    "results['tracks']['items']"
   ]
  },
  {
   "cell_type": "code",
   "execution_count": 11,
   "metadata": {
    "colab": {
     "base_uri": "https://localhost:8080/"
    },
    "id": "aBcp5e9PtNGG",
    "outputId": "9a0e80dd-ac15-4e30-a720-1c0c8964144a"
   },
   "outputs": [
    {
     "data": {
      "text/plain": [
       "[{'danceability': 0.935,\n",
       "  'energy': 0.454,\n",
       "  'key': 1,\n",
       "  'loudness': -7.509,\n",
       "  'mode': 1,\n",
       "  'speechiness': 0.375,\n",
       "  'acousticness': 0.0194,\n",
       "  'instrumentalness': 0,\n",
       "  'liveness': 0.0824,\n",
       "  'valence': 0.357,\n",
       "  'tempo': 133.073,\n",
       "  'type': 'audio_features',\n",
       "  'id': '4Oun2ylbjFKMPTiaSbbCih',\n",
       "  'uri': 'spotify:track:4Oun2ylbjFKMPTiaSbbCih',\n",
       "  'track_href': 'https://api.spotify.com/v1/tracks/4Oun2ylbjFKMPTiaSbbCih',\n",
       "  'analysis_url': 'https://api.spotify.com/v1/audio-analysis/4Oun2ylbjFKMPTiaSbbCih',\n",
       "  'duration_ms': 187541,\n",
       "  'time_signature': 4}]"
      ]
     },
     "execution_count": 11,
     "metadata": {},
     "output_type": "execute_result"
    }
   ],
   "source": [
    "WAP = sp.search(q='WAP', limit=1) \n",
    "WAP[\"tracks\"][\"items\"][0][\"uri\"]\n",
    "sp.audio_features(WAP[\"tracks\"][\"items\"][0][\"uri\"])"
   ]
  },
  {
   "cell_type": "markdown",
   "metadata": {},
   "source": [
    "# 8.05 Activity 1\n",
    "\n",
    "In order to use the `Spotify` API (`SpotiPy`), create an account in `Spotify` and follow [these](https://developer.spotify.com/documentation/general/guides/app-settings/) steps. Once you have done it, work on the following instructions:\n",
    "\n",
    "- Create a list and assign it to a variable named `my_20_artists`.\n",
    "- Loop over your 20 favorite artists and their results to the list.\n",
    "- Create a function that takes a list of artist names and return their 50 first appearances as a dictionary.\n"
   ]
  },
  {
   "cell_type": "code",
   "execution_count": null,
   "metadata": {},
   "outputs": [],
   "source": [
    "my_20_artists = []"
   ]
  },
  {
   "cell_type": "code",
   "execution_count": null,
   "metadata": {},
   "outputs": [],
   "source": [
    "my_dict = {}\n",
    "for artist in my_20_artists:\n",
    "    result = sp.search(q=artist , limit = 50)\n",
    "    my_dict[artist] = result"
   ]
  },
  {
   "cell_type": "markdown",
   "metadata": {
    "id": "N6pxTuAP_Sk2"
   },
   "source": [
    "# Lesson 2"
   ]
  },
  {
   "cell_type": "markdown",
   "metadata": {
    "id": "wlYAUHZMGEPp"
   },
   "source": [
    "## Understanding the json"
   ]
  },
  {
   "cell_type": "markdown",
   "metadata": {
    "id": "PSk_-FAqDW4q"
   },
   "source": [
    "Understanding the hierachy of a JSON can make you mad. Therefore you can cosider using some online pages where you can paste your JSON file and see the \"tree\" structure of the file.\n",
    "\n",
    "https://codebeautify.org/jsonviewer\n",
    "\n",
    "So, copy the json output from the previous query and paste it on the website's left panel. On the right panel you will be able to see the hierachy of the json file."
   ]
  },
  {
   "cell_type": "markdown",
   "metadata": {
    "id": "TB8tYM3KEZSx"
   },
   "source": [
    "Let's get used to the json at hand."
   ]
  },
  {
   "cell_type": "code",
   "execution_count": 12,
   "metadata": {
    "colab": {
     "base_uri": "https://localhost:8080/"
    },
    "id": "gQzoV9fjEbm6",
    "outputId": "9b4abc6e-80db-4d45-e286-b8366abcc8cd"
   },
   "outputs": [
    {
     "name": "stdout",
     "output_type": "stream",
     "text": [
      "The json file has the following keys:  dict_keys(['tracks'])\n",
      "The 'tracks' key has the following child keys:  dict_keys(['href', 'items', 'limit', 'next', 'offset', 'previous', 'total'])\n",
      "The query we made is:  https://api.spotify.com/v1/search?query=Lady+Gaga&type=track&offset=0&limit=5\n",
      "The song's info is contained in:  [{'album': {'album_type': 'single', 'artists': [{'external_urls': {'spotify': 'https://open.spotify.com/artist/1HY2Jd0NmPuamShAr6KMms'}, 'href': 'https://api.spotify.com/v1/artists/1HY2Jd0NmPuamShAr6KMms', 'id': '1HY2Jd0NmPuamShAr6KMms', 'name': 'Lady Gaga', 'type': 'artist', 'uri': 'spotify:artist:1HY2Jd0NmPuamShAr6KMms'}, {'external_urls': {'spotify': 'https://open.spotify.com/artist/66CXWjxzNUsdJxJ2JdwvnR'}, 'href': 'https://api.spotify.com/v1/artists/66CXWjxzNUsdJxJ2JdwvnR', 'id': '66CXWjxzNUsdJxJ2JdwvnR', 'name': 'Ariana Grande', 'type': 'artist', 'uri': 'spotify:artist:66CXWjxzNUsdJxJ2JdwvnR'}], 'available_markets': ['AD', 'AE', 'AL', 'AR', 'AT', 'AU', 'BA', 'BE', 'BG', 'BH', 'BO', 'BR', 'BY', 'CA', 'CH', 'CL', 'CO', 'CR', 'CY', 'CZ', 'DE', 'DK', 'DO', 'DZ', 'EC', 'EE', 'EG', 'ES', 'FI', 'FR', 'GB', 'GR', 'GT', 'HK', 'HN', 'HR', 'HU', 'ID', 'IE', 'IL', 'IN', 'IS', 'IT', 'JO', 'JP', 'KW', 'KZ', 'LB', 'LI', 'LT', 'LU', 'LV', 'MA', 'MC', 'MD', 'ME', 'MK', 'MT', 'MX', 'MY', 'NI', 'NL', 'NO', 'NZ', 'OM', 'PA', 'PE', 'PH', 'PL', 'PS', 'PT', 'PY', 'QA', 'RO', 'RS', 'RU', 'SA', 'SG', 'SI', 'SK', 'SV', 'TH', 'TN', 'TR', 'TW', 'UA', 'US', 'UY', 'VN', 'XK', 'ZA'], 'external_urls': {'spotify': 'https://open.spotify.com/album/4TqgXMSSTwP3RCo3MMSR6t'}, 'href': 'https://api.spotify.com/v1/albums/4TqgXMSSTwP3RCo3MMSR6t', 'id': '4TqgXMSSTwP3RCo3MMSR6t', 'images': [{'height': 640, 'url': 'https://i.scdn.co/image/ab67616d0000b273c8583f0bd97d3042d4971acf', 'width': 640}, {'height': 300, 'url': 'https://i.scdn.co/image/ab67616d00001e02c8583f0bd97d3042d4971acf', 'width': 300}, {'height': 64, 'url': 'https://i.scdn.co/image/ab67616d00004851c8583f0bd97d3042d4971acf', 'width': 64}], 'name': 'Rain On Me (with Ariana Grande)', 'release_date': '2020-05-22', 'release_date_precision': 'day', 'total_tracks': 1, 'type': 'album', 'uri': 'spotify:album:4TqgXMSSTwP3RCo3MMSR6t'}, 'artists': [{'external_urls': {'spotify': 'https://open.spotify.com/artist/1HY2Jd0NmPuamShAr6KMms'}, 'href': 'https://api.spotify.com/v1/artists/1HY2Jd0NmPuamShAr6KMms', 'id': '1HY2Jd0NmPuamShAr6KMms', 'name': 'Lady Gaga', 'type': 'artist', 'uri': 'spotify:artist:1HY2Jd0NmPuamShAr6KMms'}, {'external_urls': {'spotify': 'https://open.spotify.com/artist/66CXWjxzNUsdJxJ2JdwvnR'}, 'href': 'https://api.spotify.com/v1/artists/66CXWjxzNUsdJxJ2JdwvnR', 'id': '66CXWjxzNUsdJxJ2JdwvnR', 'name': 'Ariana Grande', 'type': 'artist', 'uri': 'spotify:artist:66CXWjxzNUsdJxJ2JdwvnR'}], 'available_markets': ['AD', 'AE', 'AL', 'AR', 'AT', 'AU', 'BA', 'BE', 'BG', 'BH', 'BO', 'BR', 'BY', 'CA', 'CH', 'CL', 'CO', 'CR', 'CY', 'CZ', 'DE', 'DK', 'DO', 'DZ', 'EC', 'EE', 'EG', 'ES', 'FI', 'FR', 'GB', 'GR', 'GT', 'HK', 'HN', 'HR', 'HU', 'ID', 'IE', 'IL', 'IN', 'IS', 'IT', 'JO', 'JP', 'KW', 'KZ', 'LB', 'LI', 'LT', 'LU', 'LV', 'MA', 'MC', 'MD', 'ME', 'MK', 'MT', 'MX', 'MY', 'NI', 'NL', 'NO', 'NZ', 'OM', 'PA', 'PE', 'PH', 'PL', 'PS', 'PT', 'PY', 'QA', 'RO', 'RS', 'RU', 'SA', 'SG', 'SI', 'SK', 'SV', 'TH', 'TN', 'TR', 'TW', 'UA', 'US', 'UY', 'VN', 'XK', 'ZA'], 'disc_number': 1, 'duration_ms': 182200, 'explicit': False, 'external_ids': {'isrc': 'USUM72004304'}, 'external_urls': {'spotify': 'https://open.spotify.com/track/24ySl2hOPGCDcxBxFIqWBu'}, 'href': 'https://api.spotify.com/v1/tracks/24ySl2hOPGCDcxBxFIqWBu', 'id': '24ySl2hOPGCDcxBxFIqWBu', 'is_local': False, 'name': 'Rain On Me (with Ariana Grande)', 'popularity': 86, 'preview_url': None, 'track_number': 1, 'type': 'track', 'uri': 'spotify:track:24ySl2hOPGCDcxBxFIqWBu'}, {'album': {'album_type': 'album', 'artists': [{'external_urls': {'spotify': 'https://open.spotify.com/artist/1HY2Jd0NmPuamShAr6KMms'}, 'href': 'https://api.spotify.com/v1/artists/1HY2Jd0NmPuamShAr6KMms', 'id': '1HY2Jd0NmPuamShAr6KMms', 'name': 'Lady Gaga', 'type': 'artist', 'uri': 'spotify:artist:1HY2Jd0NmPuamShAr6KMms'}, {'external_urls': {'spotify': 'https://open.spotify.com/artist/4VIvfOurcf0vuLRxLkGnIG'}, 'href': 'https://api.spotify.com/v1/artists/4VIvfOurcf0vuLRxLkGnIG', 'id': '4VIvfOurcf0vuLRxLkGnIG', 'name': 'Bradley Cooper', 'type': 'artist', 'uri': 'spotify:artist:4VIvfOurcf0vuLRxLkGnIG'}], 'available_markets': ['AD', 'AE', 'AL', 'AR', 'AT', 'AU', 'BA', 'BE', 'BG', 'BH', 'BO', 'BR', 'CA', 'CH', 'CL', 'CO', 'CR', 'CY', 'CZ', 'DE', 'DK', 'DO', 'DZ', 'EC', 'EE', 'EG', 'ES', 'FI', 'FR', 'GB', 'GR', 'GT', 'HK', 'HN', 'HR', 'HU', 'ID', 'IE', 'IL', 'IN', 'IS', 'IT', 'JO', 'JP', 'KW', 'KZ', 'LB', 'LI', 'LT', 'LU', 'LV', 'MA', 'MC', 'MD', 'ME', 'MK', 'MT', 'MX', 'MY', 'NI', 'NL', 'NO', 'NZ', 'OM', 'PA', 'PE', 'PH', 'PL', 'PS', 'PT', 'PY', 'QA', 'RO', 'RS', 'RU', 'SA', 'SE', 'SG', 'SI', 'SK', 'SV', 'TH', 'TN', 'TR', 'TW', 'UA', 'US', 'UY', 'VN', 'XK', 'ZA'], 'external_urls': {'spotify': 'https://open.spotify.com/album/4sLtOBOzn4s3GDUv3c5oJD'}, 'href': 'https://api.spotify.com/v1/albums/4sLtOBOzn4s3GDUv3c5oJD', 'id': '4sLtOBOzn4s3GDUv3c5oJD', 'images': [{'height': 640, 'url': 'https://i.scdn.co/image/ab67616d0000b273e2d156fdc691f57900134342', 'width': 640}, {'height': 300, 'url': 'https://i.scdn.co/image/ab67616d00001e02e2d156fdc691f57900134342', 'width': 300}, {'height': 64, 'url': 'https://i.scdn.co/image/ab67616d00004851e2d156fdc691f57900134342', 'width': 64}], 'name': 'A Star Is Born Soundtrack', 'release_date': '2018-10-05', 'release_date_precision': 'day', 'total_tracks': 34, 'type': 'album', 'uri': 'spotify:album:4sLtOBOzn4s3GDUv3c5oJD'}, 'artists': [{'external_urls': {'spotify': 'https://open.spotify.com/artist/1HY2Jd0NmPuamShAr6KMms'}, 'href': 'https://api.spotify.com/v1/artists/1HY2Jd0NmPuamShAr6KMms', 'id': '1HY2Jd0NmPuamShAr6KMms', 'name': 'Lady Gaga', 'type': 'artist', 'uri': 'spotify:artist:1HY2Jd0NmPuamShAr6KMms'}, {'external_urls': {'spotify': 'https://open.spotify.com/artist/4VIvfOurcf0vuLRxLkGnIG'}, 'href': 'https://api.spotify.com/v1/artists/4VIvfOurcf0vuLRxLkGnIG', 'id': '4VIvfOurcf0vuLRxLkGnIG', 'name': 'Bradley Cooper', 'type': 'artist', 'uri': 'spotify:artist:4VIvfOurcf0vuLRxLkGnIG'}], 'available_markets': ['AD', 'AE', 'AL', 'AR', 'AT', 'AU', 'BA', 'BE', 'BG', 'BH', 'BO', 'BR', 'CA', 'CH', 'CL', 'CO', 'CR', 'CY', 'CZ', 'DE', 'DK', 'DO', 'DZ', 'EC', 'EE', 'EG', 'ES', 'FI', 'FR', 'GB', 'GR', 'GT', 'HK', 'HN', 'HR', 'HU', 'ID', 'IE', 'IL', 'IN', 'IS', 'IT', 'JO', 'JP', 'KW', 'KZ', 'LB', 'LI', 'LT', 'LU', 'LV', 'MA', 'MC', 'MD', 'ME', 'MK', 'MT', 'MX', 'MY', 'NI', 'NL', 'NO', 'NZ', 'OM', 'PA', 'PE', 'PH', 'PL', 'PS', 'PT', 'PY', 'QA', 'RO', 'RS', 'RU', 'SA', 'SE', 'SG', 'SI', 'SK', 'SV', 'TH', 'TN', 'TR', 'TW', 'UA', 'US', 'UY', 'VN', 'XK', 'ZA'], 'disc_number': 1, 'duration_ms': 215733, 'explicit': False, 'external_ids': {'isrc': 'USUM71813192'}, 'external_urls': {'spotify': 'https://open.spotify.com/track/2VxeLyX666F8uXCJ0dZF8B'}, 'href': 'https://api.spotify.com/v1/tracks/2VxeLyX666F8uXCJ0dZF8B', 'id': '2VxeLyX666F8uXCJ0dZF8B', 'is_local': False, 'name': 'Shallow', 'popularity': 86, 'preview_url': None, 'track_number': 12, 'type': 'track', 'uri': 'spotify:track:2VxeLyX666F8uXCJ0dZF8B'}, {'album': {'album_type': 'album', 'artists': [{'external_urls': {'spotify': 'https://open.spotify.com/artist/1HY2Jd0NmPuamShAr6KMms'}, 'href': 'https://api.spotify.com/v1/artists/1HY2Jd0NmPuamShAr6KMms', 'id': '1HY2Jd0NmPuamShAr6KMms', 'name': 'Lady Gaga', 'type': 'artist', 'uri': 'spotify:artist:1HY2Jd0NmPuamShAr6KMms'}], 'available_markets': ['AD', 'AE', 'AL', 'AR', 'AT', 'AU', 'BA', 'BE', 'BG', 'BH', 'BO', 'BR', 'BY', 'CA', 'CH', 'CL', 'CO', 'CR', 'CY', 'CZ', 'DE', 'DK', 'DO', 'DZ', 'EC', 'EE', 'EG', 'ES', 'FI', 'FR', 'GB', 'GR', 'GT', 'HK', 'HN', 'HR', 'HU', 'ID', 'IE', 'IL', 'IN', 'IS', 'IT', 'JO', 'JP', 'KW', 'KZ', 'LB', 'LI', 'LT', 'LU', 'LV', 'MA', 'MC', 'MD', 'ME', 'MK', 'MT', 'MX', 'MY', 'NI', 'NL', 'NO', 'NZ', 'OM', 'PA', 'PE', 'PH', 'PL', 'PS', 'PT', 'PY', 'QA', 'RO', 'RS', 'RU', 'SA', 'SE', 'SG', 'SI', 'SK', 'SV', 'TH', 'TN', 'TR', 'TW', 'UA', 'US', 'UY', 'VN', 'XK', 'ZA'], 'external_urls': {'spotify': 'https://open.spotify.com/album/05c49JgPmL4Uz2ZeqRx5SP'}, 'href': 'https://api.spotify.com/v1/albums/05c49JgPmL4Uz2ZeqRx5SP', 'id': '05c49JgPmL4Uz2ZeqRx5SP', 'images': [{'height': 640, 'url': 'https://i.scdn.co/image/ab67616d0000b2736040effba89b9b00a6f6743a', 'width': 640}, {'height': 300, 'url': 'https://i.scdn.co/image/ab67616d00001e026040effba89b9b00a6f6743a', 'width': 300}, {'height': 64, 'url': 'https://i.scdn.co/image/ab67616d000048516040effba89b9b00a6f6743a', 'width': 64}], 'name': 'Chromatica', 'release_date': '2020-05-29', 'release_date_precision': 'day', 'total_tracks': 16, 'type': 'album', 'uri': 'spotify:album:05c49JgPmL4Uz2ZeqRx5SP'}, 'artists': [{'external_urls': {'spotify': 'https://open.spotify.com/artist/1HY2Jd0NmPuamShAr6KMms'}, 'href': 'https://api.spotify.com/v1/artists/1HY2Jd0NmPuamShAr6KMms', 'id': '1HY2Jd0NmPuamShAr6KMms', 'name': 'Lady Gaga', 'type': 'artist', 'uri': 'spotify:artist:1HY2Jd0NmPuamShAr6KMms'}, {'external_urls': {'spotify': 'https://open.spotify.com/artist/66CXWjxzNUsdJxJ2JdwvnR'}, 'href': 'https://api.spotify.com/v1/artists/66CXWjxzNUsdJxJ2JdwvnR', 'id': '66CXWjxzNUsdJxJ2JdwvnR', 'name': 'Ariana Grande', 'type': 'artist', 'uri': 'spotify:artist:66CXWjxzNUsdJxJ2JdwvnR'}], 'available_markets': ['AD', 'AE', 'AL', 'AR', 'AT', 'AU', 'BA', 'BE', 'BG', 'BH', 'BO', 'BR', 'BY', 'CA', 'CH', 'CL', 'CO', 'CR', 'CY', 'CZ', 'DE', 'DK', 'DO', 'DZ', 'EC', 'EE', 'EG', 'ES', 'FI', 'FR', 'GB', 'GR', 'GT', 'HK', 'HN', 'HR', 'HU', 'ID', 'IE', 'IL', 'IN', 'IS', 'IT', 'JO', 'JP', 'KW', 'KZ', 'LB', 'LI', 'LT', 'LU', 'LV', 'MA', 'MC', 'MD', 'ME', 'MK', 'MT', 'MX', 'MY', 'NI', 'NL', 'NO', 'NZ', 'OM', 'PA', 'PE', 'PH', 'PL', 'PS', 'PT', 'PY', 'QA', 'RO', 'RS', 'RU', 'SA', 'SE', 'SG', 'SI', 'SK', 'SV', 'TH', 'TN', 'TR', 'TW', 'UA', 'US', 'UY', 'VN', 'XK', 'ZA'], 'disc_number': 1, 'duration_ms': 182200, 'explicit': False, 'external_ids': {'isrc': 'USUM72004304'}, 'external_urls': {'spotify': 'https://open.spotify.com/track/7ju97lgwC2rKQ6wwsf9no9'}, 'href': 'https://api.spotify.com/v1/tracks/7ju97lgwC2rKQ6wwsf9no9', 'id': '7ju97lgwC2rKQ6wwsf9no9', 'is_local': False, 'name': 'Rain On Me (with Ariana Grande)', 'popularity': 83, 'preview_url': None, 'track_number': 4, 'type': 'track', 'uri': 'spotify:track:7ju97lgwC2rKQ6wwsf9no9'}, {'album': {'album_type': 'album', 'artists': [{'external_urls': {'spotify': 'https://open.spotify.com/artist/1HY2Jd0NmPuamShAr6KMms'}, 'href': 'https://api.spotify.com/v1/artists/1HY2Jd0NmPuamShAr6KMms', 'id': '1HY2Jd0NmPuamShAr6KMms', 'name': 'Lady Gaga', 'type': 'artist', 'uri': 'spotify:artist:1HY2Jd0NmPuamShAr6KMms'}], 'available_markets': ['AD', 'AE', 'AL', 'AR', 'AT', 'AU', 'BA', 'BE', 'BG', 'BH', 'BO', 'BR', 'CA', 'CH', 'CL', 'CO', 'CR', 'CY', 'CZ', 'DE', 'DK', 'DO', 'DZ', 'EC', 'EE', 'EG', 'ES', 'FI', 'FR', 'GB', 'GR', 'GT', 'HK', 'HN', 'HR', 'HU', 'ID', 'IE', 'IL', 'IN', 'IS', 'IT', 'JO', 'KW', 'KZ', 'LB', 'LI', 'LT', 'LU', 'LV', 'MA', 'MC', 'MD', 'ME', 'MK', 'MT', 'MX', 'MY', 'NI', 'NL', 'NO', 'NZ', 'OM', 'PA', 'PE', 'PH', 'PL', 'PS', 'PT', 'PY', 'QA', 'RO', 'RS', 'RU', 'SA', 'SE', 'SG', 'SI', 'SK', 'SV', 'TH', 'TN', 'TR', 'TW', 'UA', 'US', 'UY', 'VN', 'XK', 'ZA'], 'external_urls': {'spotify': 'https://open.spotify.com/album/6rePArBMb5nLWEaY9aQqL4'}, 'href': 'https://api.spotify.com/v1/albums/6rePArBMb5nLWEaY9aQqL4', 'id': '6rePArBMb5nLWEaY9aQqL4', 'images': [{'height': 640, 'url': 'https://i.scdn.co/image/ab67616d0000b2735c9890c0456a3719eeecd8aa', 'width': 640}, {'height': 300, 'url': 'https://i.scdn.co/image/ab67616d00001e025c9890c0456a3719eeecd8aa', 'width': 300}, {'height': 64, 'url': 'https://i.scdn.co/image/ab67616d000048515c9890c0456a3719eeecd8aa', 'width': 64}], 'name': 'The Fame Monster (Deluxe Edition)', 'release_date': '2009-11-05', 'release_date_precision': 'day', 'total_tracks': 23, 'type': 'album', 'uri': 'spotify:album:6rePArBMb5nLWEaY9aQqL4'}, 'artists': [{'external_urls': {'spotify': 'https://open.spotify.com/artist/1HY2Jd0NmPuamShAr6KMms'}, 'href': 'https://api.spotify.com/v1/artists/1HY2Jd0NmPuamShAr6KMms', 'id': '1HY2Jd0NmPuamShAr6KMms', 'name': 'Lady Gaga', 'type': 'artist', 'uri': 'spotify:artist:1HY2Jd0NmPuamShAr6KMms'}], 'available_markets': ['AD', 'AE', 'AL', 'AR', 'AT', 'AU', 'BA', 'BE', 'BG', 'BH', 'BO', 'BR', 'CA', 'CH', 'CL', 'CO', 'CR', 'CY', 'CZ', 'DE', 'DK', 'DO', 'DZ', 'EC', 'EE', 'EG', 'ES', 'FI', 'FR', 'GB', 'GR', 'GT', 'HK', 'HN', 'HR', 'HU', 'ID', 'IE', 'IL', 'IN', 'IS', 'IT', 'JO', 'KW', 'KZ', 'LB', 'LI', 'LT', 'LU', 'LV', 'MA', 'MC', 'MD', 'ME', 'MK', 'MT', 'MX', 'MY', 'NI', 'NL', 'NO', 'NZ', 'OM', 'PA', 'PE', 'PH', 'PL', 'PS', 'PT', 'PY', 'QA', 'RO', 'RS', 'RU', 'SA', 'SE', 'SG', 'SI', 'SK', 'SV', 'TH', 'TN', 'TR', 'TW', 'UA', 'US', 'UY', 'VN', 'XK', 'ZA'], 'disc_number': 1, 'duration_ms': 294573, 'explicit': True, 'external_ids': {'isrc': 'USUM70918596'}, 'external_urls': {'spotify': 'https://open.spotify.com/track/0SiywuOBRcynK0uKGWdCnn'}, 'href': 'https://api.spotify.com/v1/tracks/0SiywuOBRcynK0uKGWdCnn', 'id': '0SiywuOBRcynK0uKGWdCnn', 'is_local': False, 'name': 'Bad Romance', 'popularity': 81, 'preview_url': None, 'track_number': 1, 'type': 'track', 'uri': 'spotify:track:0SiywuOBRcynK0uKGWdCnn'}, {'album': {'album_type': 'album', 'artists': [{'external_urls': {'spotify': 'https://open.spotify.com/artist/1HY2Jd0NmPuamShAr6KMms'}, 'href': 'https://api.spotify.com/v1/artists/1HY2Jd0NmPuamShAr6KMms', 'id': '1HY2Jd0NmPuamShAr6KMms', 'name': 'Lady Gaga', 'type': 'artist', 'uri': 'spotify:artist:1HY2Jd0NmPuamShAr6KMms'}], 'available_markets': ['AD', 'AE', 'AL', 'AR', 'AT', 'AU', 'BA', 'BE', 'BG', 'BH', 'BO', 'BR', 'BY', 'CA', 'CH', 'CL', 'CO', 'CR', 'CY', 'CZ', 'DE', 'DK', 'DO', 'DZ', 'EC', 'EE', 'EG', 'ES', 'FI', 'FR', 'GB', 'GR', 'GT', 'HK', 'HN', 'HR', 'HU', 'ID', 'IE', 'IL', 'IN', 'IS', 'IT', 'JO', 'JP', 'KW', 'KZ', 'LB', 'LI', 'LT', 'LU', 'LV', 'MA', 'MC', 'MD', 'ME', 'MK', 'MT', 'MX', 'MY', 'NI', 'NL', 'NO', 'NZ', 'OM', 'PA', 'PE', 'PH', 'PL', 'PS', 'PT', 'PY', 'QA', 'RO', 'RS', 'RU', 'SA', 'SE', 'SG', 'SI', 'SK', 'SV', 'TH', 'TN', 'TR', 'TW', 'UA', 'US', 'UY', 'VN', 'XK', 'ZA'], 'external_urls': {'spotify': 'https://open.spotify.com/album/05c49JgPmL4Uz2ZeqRx5SP'}, 'href': 'https://api.spotify.com/v1/albums/05c49JgPmL4Uz2ZeqRx5SP', 'id': '05c49JgPmL4Uz2ZeqRx5SP', 'images': [{'height': 640, 'url': 'https://i.scdn.co/image/ab67616d0000b2736040effba89b9b00a6f6743a', 'width': 640}, {'height': 300, 'url': 'https://i.scdn.co/image/ab67616d00001e026040effba89b9b00a6f6743a', 'width': 300}, {'height': 64, 'url': 'https://i.scdn.co/image/ab67616d000048516040effba89b9b00a6f6743a', 'width': 64}], 'name': 'Chromatica', 'release_date': '2020-05-29', 'release_date_precision': 'day', 'total_tracks': 16, 'type': 'album', 'uri': 'spotify:album:05c49JgPmL4Uz2ZeqRx5SP'}, 'artists': [{'external_urls': {'spotify': 'https://open.spotify.com/artist/1HY2Jd0NmPuamShAr6KMms'}, 'href': 'https://api.spotify.com/v1/artists/1HY2Jd0NmPuamShAr6KMms', 'id': '1HY2Jd0NmPuamShAr6KMms', 'name': 'Lady Gaga', 'type': 'artist', 'uri': 'spotify:artist:1HY2Jd0NmPuamShAr6KMms'}], 'available_markets': ['AD', 'AE', 'AL', 'AR', 'AT', 'AU', 'BA', 'BE', 'BG', 'BH', 'BO', 'BR', 'BY', 'CA', 'CH', 'CL', 'CO', 'CR', 'CY', 'CZ', 'DE', 'DK', 'DO', 'DZ', 'EC', 'EE', 'EG', 'ES', 'FI', 'FR', 'GB', 'GR', 'GT', 'HK', 'HN', 'HR', 'HU', 'ID', 'IE', 'IL', 'IN', 'IS', 'IT', 'JO', 'JP', 'KW', 'KZ', 'LB', 'LI', 'LT', 'LU', 'LV', 'MA', 'MC', 'MD', 'ME', 'MK', 'MT', 'MX', 'MY', 'NI', 'NL', 'NO', 'NZ', 'OM', 'PA', 'PE', 'PH', 'PL', 'PS', 'PT', 'PY', 'QA', 'RO', 'RS', 'RU', 'SA', 'SE', 'SG', 'SI', 'SK', 'SV', 'TH', 'TN', 'TR', 'TW', 'UA', 'US', 'UY', 'VN', 'XK', 'ZA'], 'disc_number': 1, 'duration_ms': 193533, 'explicit': False, 'external_ids': {'isrc': 'USUM71917357'}, 'external_urls': {'spotify': 'https://open.spotify.com/track/7yBbV2k2S2uhaQc24NF2xt'}, 'href': 'https://api.spotify.com/v1/tracks/7yBbV2k2S2uhaQc24NF2xt', 'id': '7yBbV2k2S2uhaQc24NF2xt', 'is_local': False, 'name': 'Stupid Love', 'popularity': 79, 'preview_url': None, 'track_number': 3, 'type': 'track', 'uri': 'spotify:track:7yBbV2k2S2uhaQc24NF2xt'}]\n",
      "The limit of the query we've made is:  5\n",
      "The next page if any:  https://api.spotify.com/v1/search?query=Lady+Gaga&type=track&offset=5&limit=5\n",
      "The starting webpage:  0\n",
      "Starting webpage:  None\n",
      "Total number of results:  6525\n"
     ]
    }
   ],
   "source": [
    "print(\"The json file has the following keys: \",results.keys()) # We can see that we only have tracks\n",
    "print(\"The 'tracks' key has the following child keys: \",results[\"tracks\"].keys()) # Let's check the values\n",
    "print(\"The query we made is: \",results[\"tracks\"][\"href\"]) # Query we have searched \n",
    "print(\"The song's info is contained in: \",results[\"tracks\"][\"items\"]) #items (actual tracks)\n",
    "print(\"The limit of the query we've made is: \",results[\"tracks\"][\"limit\"]) #Limit we have chosen\n",
    "print(\"The next page if any: \",results[\"tracks\"][\"next\"]) #link to the next page (next 50 tracks)\n",
    "print(\"The starting webpage: \",results[\"tracks\"][\"offset\"]) # Actual offset (starting point)\n",
    "print(\"Starting webpage: \",results[\"tracks\"][\"previous\"]) #Previous search\n",
    "print(\"Total number of results: \",results[\"tracks\"][\"total\"]) # Number of matches"
   ]
  },
  {
   "cell_type": "markdown",
   "metadata": {
    "id": "-zgLGJeHGHpj"
   },
   "source": [
    "## Exploring the tracks"
   ]
  },
  {
   "cell_type": "code",
   "execution_count": 13,
   "metadata": {
    "colab": {
     "base_uri": "https://localhost:8080/"
    },
    "id": "nZ0e5-jQGQ-G",
    "outputId": "8920ff42-6b49-493c-d191-afd32b32d1d0"
   },
   "outputs": [
    {
     "name": "stdout",
     "output_type": "stream",
     "text": [
      "Info of the first song:  {'album': {'album_type': 'single', 'artists': [{'external_urls': {'spotify': 'https://open.spotify.com/artist/1HY2Jd0NmPuamShAr6KMms'}, 'href': 'https://api.spotify.com/v1/artists/1HY2Jd0NmPuamShAr6KMms', 'id': '1HY2Jd0NmPuamShAr6KMms', 'name': 'Lady Gaga', 'type': 'artist', 'uri': 'spotify:artist:1HY2Jd0NmPuamShAr6KMms'}, {'external_urls': {'spotify': 'https://open.spotify.com/artist/66CXWjxzNUsdJxJ2JdwvnR'}, 'href': 'https://api.spotify.com/v1/artists/66CXWjxzNUsdJxJ2JdwvnR', 'id': '66CXWjxzNUsdJxJ2JdwvnR', 'name': 'Ariana Grande', 'type': 'artist', 'uri': 'spotify:artist:66CXWjxzNUsdJxJ2JdwvnR'}], 'available_markets': ['AD', 'AE', 'AL', 'AR', 'AT', 'AU', 'BA', 'BE', 'BG', 'BH', 'BO', 'BR', 'BY', 'CA', 'CH', 'CL', 'CO', 'CR', 'CY', 'CZ', 'DE', 'DK', 'DO', 'DZ', 'EC', 'EE', 'EG', 'ES', 'FI', 'FR', 'GB', 'GR', 'GT', 'HK', 'HN', 'HR', 'HU', 'ID', 'IE', 'IL', 'IN', 'IS', 'IT', 'JO', 'JP', 'KW', 'KZ', 'LB', 'LI', 'LT', 'LU', 'LV', 'MA', 'MC', 'MD', 'ME', 'MK', 'MT', 'MX', 'MY', 'NI', 'NL', 'NO', 'NZ', 'OM', 'PA', 'PE', 'PH', 'PL', 'PS', 'PT', 'PY', 'QA', 'RO', 'RS', 'RU', 'SA', 'SG', 'SI', 'SK', 'SV', 'TH', 'TN', 'TR', 'TW', 'UA', 'US', 'UY', 'VN', 'XK', 'ZA'], 'external_urls': {'spotify': 'https://open.spotify.com/album/4TqgXMSSTwP3RCo3MMSR6t'}, 'href': 'https://api.spotify.com/v1/albums/4TqgXMSSTwP3RCo3MMSR6t', 'id': '4TqgXMSSTwP3RCo3MMSR6t', 'images': [{'height': 640, 'url': 'https://i.scdn.co/image/ab67616d0000b273c8583f0bd97d3042d4971acf', 'width': 640}, {'height': 300, 'url': 'https://i.scdn.co/image/ab67616d00001e02c8583f0bd97d3042d4971acf', 'width': 300}, {'height': 64, 'url': 'https://i.scdn.co/image/ab67616d00004851c8583f0bd97d3042d4971acf', 'width': 64}], 'name': 'Rain On Me (with Ariana Grande)', 'release_date': '2020-05-22', 'release_date_precision': 'day', 'total_tracks': 1, 'type': 'album', 'uri': 'spotify:album:4TqgXMSSTwP3RCo3MMSR6t'}, 'artists': [{'external_urls': {'spotify': 'https://open.spotify.com/artist/1HY2Jd0NmPuamShAr6KMms'}, 'href': 'https://api.spotify.com/v1/artists/1HY2Jd0NmPuamShAr6KMms', 'id': '1HY2Jd0NmPuamShAr6KMms', 'name': 'Lady Gaga', 'type': 'artist', 'uri': 'spotify:artist:1HY2Jd0NmPuamShAr6KMms'}, {'external_urls': {'spotify': 'https://open.spotify.com/artist/66CXWjxzNUsdJxJ2JdwvnR'}, 'href': 'https://api.spotify.com/v1/artists/66CXWjxzNUsdJxJ2JdwvnR', 'id': '66CXWjxzNUsdJxJ2JdwvnR', 'name': 'Ariana Grande', 'type': 'artist', 'uri': 'spotify:artist:66CXWjxzNUsdJxJ2JdwvnR'}], 'available_markets': ['AD', 'AE', 'AL', 'AR', 'AT', 'AU', 'BA', 'BE', 'BG', 'BH', 'BO', 'BR', 'BY', 'CA', 'CH', 'CL', 'CO', 'CR', 'CY', 'CZ', 'DE', 'DK', 'DO', 'DZ', 'EC', 'EE', 'EG', 'ES', 'FI', 'FR', 'GB', 'GR', 'GT', 'HK', 'HN', 'HR', 'HU', 'ID', 'IE', 'IL', 'IN', 'IS', 'IT', 'JO', 'JP', 'KW', 'KZ', 'LB', 'LI', 'LT', 'LU', 'LV', 'MA', 'MC', 'MD', 'ME', 'MK', 'MT', 'MX', 'MY', 'NI', 'NL', 'NO', 'NZ', 'OM', 'PA', 'PE', 'PH', 'PL', 'PS', 'PT', 'PY', 'QA', 'RO', 'RS', 'RU', 'SA', 'SG', 'SI', 'SK', 'SV', 'TH', 'TN', 'TR', 'TW', 'UA', 'US', 'UY', 'VN', 'XK', 'ZA'], 'disc_number': 1, 'duration_ms': 182200, 'explicit': False, 'external_ids': {'isrc': 'USUM72004304'}, 'external_urls': {'spotify': 'https://open.spotify.com/track/24ySl2hOPGCDcxBxFIqWBu'}, 'href': 'https://api.spotify.com/v1/tracks/24ySl2hOPGCDcxBxFIqWBu', 'id': '24ySl2hOPGCDcxBxFIqWBu', 'is_local': False, 'name': 'Rain On Me (with Ariana Grande)', 'popularity': 86, 'preview_url': None, 'track_number': 1, 'type': 'track', 'uri': 'spotify:track:24ySl2hOPGCDcxBxFIqWBu'}\n",
      "The keys of the dictionary are:  dict_keys(['album', 'artists', 'available_markets', 'disc_number', 'duration_ms', 'explicit', 'external_ids', 'external_urls', 'href', 'id', 'is_local', 'name', 'popularity', 'preview_url', 'track_number', 'type', 'uri'])\n"
     ]
    }
   ],
   "source": [
    "len(results[\"tracks\"][\"items\"]) # 50 Tracks (as limited, it is the maximum)\n",
    "print(\"Info of the first song: \",results[\"tracks\"][\"items\"][0]) # Explore the first song \n",
    "print(\"The keys of the dictionary are: \",results[\"tracks\"][\"items\"][0].keys()) # We will focus on album, artists, id, name, popularity, type and uri"
   ]
  },
  {
   "cell_type": "markdown",
   "metadata": {
    "id": "ztXFl2wtGpBI"
   },
   "source": [
    "## Checking albums"
   ]
  },
  {
   "cell_type": "code",
   "execution_count": 14,
   "metadata": {
    "colab": {
     "base_uri": "https://localhost:8080/"
    },
    "id": "GHbz4J3JGrph",
    "outputId": "967fb1b4-b08b-49f8-d471-a027ae02425b"
   },
   "outputs": [
    {
     "data": {
      "text/plain": [
       "1"
      ]
     },
     "execution_count": 14,
     "metadata": {},
     "output_type": "execute_result"
    }
   ],
   "source": [
    "results[\"tracks\"][\"items\"][0][\"album\"] # we have more info about the album\n",
    "results[\"tracks\"][\"items\"][0][\"album\"].keys() # Will check artists, id, name, release date, total tracks \n",
    "results[\"tracks\"][\"items\"][0][\"album\"][\"artists\"] # List with artists and information\n",
    "results[\"tracks\"][\"items\"][0][\"album\"][\"artists\"] # List with artists and information\n",
    "results[\"tracks\"][\"items\"][0][\"album\"][\"id\"] # Album ID \n",
    "results[\"tracks\"][\"items\"][0][\"album\"][\"name\"] # Album name (if its a single u'll get the name of the song)\n",
    "results[\"tracks\"][\"items\"][0][\"album\"][\"release_date\"] #date in YYYY-MM-DD format\n",
    "results[\"tracks\"][\"items\"][0][\"album\"][\"total_tracks\"] #songs in the album"
   ]
  },
  {
   "cell_type": "markdown",
   "metadata": {
    "id": "ma33RhJ3GyyD"
   },
   "source": [
    "## Other info"
   ]
  },
  {
   "cell_type": "code",
   "execution_count": 15,
   "metadata": {
    "colab": {
     "base_uri": "https://localhost:8080/",
     "height": 35
    },
    "id": "rpRcNkuhG1Ht",
    "outputId": "3a463f56-6115-43d4-80c4-b5bb0c0c8c7f"
   },
   "outputs": [
    {
     "data": {
      "text/plain": [
       "'spotify:track:24ySl2hOPGCDcxBxFIqWBu'"
      ]
     },
     "execution_count": 15,
     "metadata": {},
     "output_type": "execute_result"
    }
   ],
   "source": [
    "results[\"tracks\"][\"items\"][0][\"artists\"] # Track artists\n",
    "results[\"tracks\"][\"items\"][0][\"id\"] # Track ID\n",
    "results[\"tracks\"][\"items\"][0][\"name\"] # Track name\n",
    "results[\"tracks\"][\"items\"][0][\"popularity\"] # Popularity index\n",
    "results[\"tracks\"][\"items\"][0][\"uri\"] # Basically ID"
   ]
  },
  {
   "cell_type": "markdown",
   "metadata": {},
   "source": [
    "# 8.05 Activity 2\n",
    "\n",
    "Create a function to extract all the artists of a song and another function to extract all the artists IDs from a song.\n",
    "\n",
    "- Input: track dictionary\n",
    "- Output: List of artists/List of IDs\n"
   ]
  },
  {
   "cell_type": "code",
   "execution_count": null,
   "metadata": {},
   "outputs": [],
   "source": [
    "def get_artists_from_track(track):\n",
    "    return[artist[\"name\"] for artist in track[\"artists\"]]\n",
    "#--------------------------------------------------------------------\n",
    "def get_artists_ids_from_track(track):\n",
    "    return[artist[\"id\"] for artist in track[\"artists\"]]"
   ]
  },
  {
   "cell_type": "code",
   "execution_count": null,
   "metadata": {},
   "outputs": [],
   "source": []
  },
  {
   "cell_type": "markdown",
   "metadata": {
    "id": "nDVEK6DDH82J"
   },
   "source": [
    "# Lesson 3"
   ]
  },
  {
   "cell_type": "markdown",
   "metadata": {
    "id": "ZdgnthLDIDUz"
   },
   "source": [
    "## Searching a playlist"
   ]
  },
  {
   "cell_type": "code",
   "execution_count": 16,
   "metadata": {
    "id": "QFNoaLUpIAVg"
   },
   "outputs": [],
   "source": [
    "playlist = sp.user_playlist_tracks(\"spotify\", \"4rnleEAOdmFAbRcNCgZMpY\")"
   ]
  },
  {
   "cell_type": "code",
   "execution_count": 17,
   "metadata": {
    "colab": {
     "base_uri": "https://localhost:8080/"
    },
    "id": "wG-PfUCEIKvy",
    "outputId": "bba4df9b-421f-4456-cc19-7cf2c063cebd"
   },
   "outputs": [
    {
     "name": "stdout",
     "output_type": "stream",
     "text": [
      "Total number of songs in the playlist:  4895\n"
     ]
    },
    {
     "data": {
      "text/plain": [
       "100"
      ]
     },
     "execution_count": 17,
     "metadata": {},
     "output_type": "execute_result"
    }
   ],
   "source": [
    "playlist.keys() # Let's look at items and total:\n",
    "print(\"Total number of songs in the playlist: \",playlist[\"total\"]) # 4Ksongs!! Let's check items:\n",
    "len(playlist[\"items\"]) # It is limited to 100 tracks, we will have to fix it:"
   ]
  },
  {
   "cell_type": "markdown",
   "metadata": {
    "id": "8gIIuaAAIhQi"
   },
   "source": [
    "## Extracting the songs of a playlist"
   ]
  },
  {
   "cell_type": "code",
   "execution_count": 18,
   "metadata": {
    "colab": {
     "base_uri": "https://localhost:8080/"
    },
    "id": "xL2er8hRIl_S",
    "outputId": "e2c8c0ce-8606-40a7-f391-4a90b4e9e2ee"
   },
   "outputs": [
    {
     "data": {
      "text/plain": [
       "4895"
      ]
     },
     "execution_count": 18,
     "metadata": {},
     "output_type": "execute_result"
    }
   ],
   "source": [
    "def get_playlist_tracks(username, playlist_id):\n",
    "    results = sp.user_playlist_tracks(username,playlist_id)\n",
    "    tracks = results['items']\n",
    "    while results['next']:\n",
    "        results = sp.next(results)\n",
    "        tracks.extend(results['items'])\n",
    "    return tracks\n",
    "\n",
    "len(get_playlist_tracks(\"spotify\", \"4rnleEAOdmFAbRcNCgZMpY\"))"
   ]
  },
  {
   "cell_type": "markdown",
   "metadata": {
    "id": "0tlqOKWCJDq1"
   },
   "source": [
    "## Getting the artists of the playlist "
   ]
  },
  {
   "cell_type": "code",
   "execution_count": 24,
   "metadata": {
    "id": "VBm6PWerJH6A"
   },
   "outputs": [],
   "source": [
    "def get_artists_from_playlist(playlist_id):\n",
    "    tracks_from_playlist = get_playlist_tracks(\"spotify\", playlist_id)\n",
    "    return list(set(artist for subset in [get_artists_from_track(track[\"track\"]) for track in tracks_from_playlist] for artist in subset))"
   ]
  },
  {
   "cell_type": "markdown",
   "metadata": {
    "id": "nOpED5mzJaPH"
   },
   "source": [
    "## Artists ID"
   ]
  },
  {
   "cell_type": "code",
   "execution_count": 20,
   "metadata": {
    "id": "By6HnwQVKjn9"
   },
   "outputs": [],
   "source": [
    "def get_artists_from_track(track):\n",
    "    return[artist[\"name\"] for artist in track[\"artists\"]]\n",
    "\n",
    "#--------------------------------------------------------------------\n",
    "\n",
    "def get_artists_ids_from_track(track):\n",
    "    return[artist[\"id\"] for artist in track[\"artists\"]]"
   ]
  },
  {
   "cell_type": "code",
   "execution_count": 21,
   "metadata": {
    "id": "iglwhQEPJdjs"
   },
   "outputs": [],
   "source": [
    "def get_artists_ids_from_playlist(playlist_id):\n",
    "    tracks_from_playlist = get_playlist_tracks(\"spotify\", playlist_id)\n",
    "    return list(set(artist for subset in [get_artists_ids_from_track(track[\"track\"]) for track in tracks_from_playlist] for artist in subset))"
   ]
  },
  {
   "cell_type": "code",
   "execution_count": 22,
   "metadata": {
    "colab": {
     "base_uri": "https://localhost:8080/"
    },
    "id": "7e6xcNp4JoZ4",
    "outputId": "96f6361a-3488-449b-a876-da8239dee41f"
   },
   "outputs": [
    {
     "data": {
      "text/plain": [
       "2262"
      ]
     },
     "execution_count": 22,
     "metadata": {},
     "output_type": "execute_result"
    }
   ],
   "source": [
    "artists = get_artists_from_playlist(\"4rnleEAOdmFAbRcNCgZMpY\") # Apply the function\n",
    "artists_ids = get_artists_ids_from_playlist(\"4rnleEAOdmFAbRcNCgZMpY\")\n",
    "len(artists)\n",
    "len(artists_ids) # We might have more ids due to artists having the same name"
   ]
  },
  {
   "cell_type": "markdown",
   "metadata": {},
   "source": [
    "# 8.05 Activity 3\n",
    "\n",
    "Iterate over the call (playlist) first 100 tracks to get all the songs ID, name, and artists.\n",
    "\n",
    "Output: Dictionary with key: song ID and values: list(song name, artist).\n"
   ]
  },
  {
   "cell_type": "code",
   "execution_count": null,
   "metadata": {},
   "outputs": [],
   "source": [
    "songs = {\n",
    "  track[\"track\"][\"id\"]: [track[\"track\"][\"name\"], \n",
    "  track[\"track\"][\"artists\"][0][\"name\"]] \n",
    "  for track in playlist[\"items\"]\n",
    "}"
   ]
  },
  {
   "cell_type": "markdown",
   "metadata": {
    "id": "MBq_6MslLqN1"
   },
   "source": [
    "# Lesson 4"
   ]
  },
  {
   "cell_type": "markdown",
   "metadata": {
    "id": "flAFNc16L7UA"
   },
   "source": [
    "In this lesson we will work with albums to extract information. We will start by extracting all the albums of an artist."
   ]
  },
  {
   "cell_type": "code",
   "execution_count": null,
   "metadata": {
    "id": "aYMfWpqSL8cv"
   },
   "outputs": [],
   "source": [
    "def get_albums_from_artist(artist_id):\n",
    "    results = sp.artist_albums(artist_id, limit = 50)\n",
    "    tracks = results['items']\n",
    "    while results['next']:\n",
    "        results = sp.next(results)\n",
    "        tracks.extend(results['items'])\n",
    "    return tracks\n",
    "\n",
    "# Same for albums ids\n",
    "def get_album_ids_from_artist(artist_id):\n",
    "    results = sp.artist_albums(artist_id, limit = 50)\n",
    "    tracks = results['items']\n",
    "    while results['next']:\n",
    "        results = sp.next(results)\n",
    "        tracks.extend(results['items'])\n",
    "    return [i[\"id\"] for i in tracks]"
   ]
  },
  {
   "cell_type": "markdown",
   "metadata": {
    "id": "W4DVUzVGMBmY"
   },
   "source": [
    "Example: Coldplay"
   ]
  },
  {
   "cell_type": "code",
   "execution_count": null,
   "metadata": {
    "colab": {
     "base_uri": "https://localhost:8080/"
    },
    "id": "TIl4480OMDe2",
    "outputId": "64fbb40e-e91b-4c52-baa3-bbd1cc8037bc"
   },
   "outputs": [
    {
     "data": {
      "text/plain": [
       "{'Alexandre Desplat',\n",
       " 'Coldplay',\n",
       " 'Greta Bradman',\n",
       " 'Rhythms Del Mundo',\n",
       " 'Rihanna',\n",
       " 'Robin Schulz',\n",
       " 'Seeb',\n",
       " 'Swedish House Mafia',\n",
       " 'The Chainsmokers',\n",
       " 'The String Family',\n",
       " 'Tiësto',\n",
       " 'Various Artists'}"
      ]
     },
     "execution_count": 51,
     "metadata": {
      "tags": []
     },
     "output_type": "execute_result"
    }
   ],
   "source": [
    "coldplay_id = \"4gzpq5DPGxSnKTe4SA8HAU\"\n",
    "coldplay_albums = get_albums_from_artist(coldplay_id)\n",
    "coldplay_album_ids = get_album_ids_from_artist(coldplay_id)\n",
    "\n",
    "# Check artists that played with coldplay\n",
    "set([artist[\"name\"] for track in coldplay_albums for artist in track[\"artists\"]])"
   ]
  },
  {
   "cell_type": "markdown",
   "metadata": {
    "id": "ljaglNRvMTL5"
   },
   "source": [
    "## Getting the songs of a given album"
   ]
  },
  {
   "cell_type": "code",
   "execution_count": null,
   "metadata": {
    "id": "q3wKfrHbMWO3"
   },
   "outputs": [],
   "source": [
    "def get_track_ids_from_albums(album_ids):\n",
    "    return list(set([i[\"id\"] for j in album_ids for i in sp.album(j)[\"tracks\"][\"items\"]]))"
   ]
  },
  {
   "cell_type": "code",
   "execution_count": null,
   "metadata": {
    "colab": {
     "base_uri": "https://localhost:8080/"
    },
    "id": "WzZLGfwlMd2C",
    "outputId": "d395a7d4-1352-493c-d0b5-e77ff95c411c"
   },
   "outputs": [
    {
     "data": {
      "text/plain": [
       "16674"
      ]
     },
     "execution_count": 53,
     "metadata": {
      "tags": []
     },
     "output_type": "execute_result"
    }
   ],
   "source": [
    "coldplay_songs = get_track_ids_from_albums(coldplay_album_ids)\n",
    "\n",
    "len(coldplay_songs)"
   ]
  }
 ],
 "metadata": {
  "colab": {
   "name": "Morning_day3.ipynb",
   "provenance": [],
   "toc_visible": true
  },
  "kernelspec": {
   "display_name": "Python 3",
   "language": "python",
   "name": "python3"
  },
  "language_info": {
   "codemirror_mode": {
    "name": "ipython",
    "version": 3
   },
   "file_extension": ".py",
   "mimetype": "text/x-python",
   "name": "python",
   "nbconvert_exporter": "python",
   "pygments_lexer": "ipython3",
   "version": "3.7.6"
  }
 },
 "nbformat": 4,
 "nbformat_minor": 1
}
